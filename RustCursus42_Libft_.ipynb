{
  "nbformat": 4,
  "nbformat_minor": 0,
  "metadata": {
    "colab": {
      "provenance": [],
      "authorship_tag": "ABX9TyOGpdr2mxZe+/MT8GAehbK/",
      "include_colab_link": true
    },
    "kernelspec": {
      "name": "python3",
      "display_name": "Python 3"
    },
    "language_info": {
      "name": "python"
    }
  },
  "cells": [
    {
      "cell_type": "markdown",
      "metadata": {
        "id": "view-in-github",
        "colab_type": "text"
      },
      "source": [
        "<a href=\"https://colab.research.google.com/github/vincimech010233/rust_asm/blob/master/RustCursus42_Libft_.ipynb\" target=\"_parent\"><img src=\"https://colab.research.google.com/assets/colab-badge.svg\" alt=\"Open In Colab\"/></a>"
      ]
    },
    {
      "cell_type": "code",
      "execution_count": null,
      "metadata": {
        "id": "FgNp76G24XHX"
      },
      "outputs": [],
      "source": [
        "!curl --proto '=https' --tlsv1.2 -sSf https://sh.rustup.rs | sh -s -- -y\n",
        "import os\n",
        "os.environ['PATH'] += \":/root/.cargo/bin\"\n",
        "!rustc --version"
      ]
    },
    {
      "cell_type": "code",
      "source": [
        "%%writefile ctype.rs\n",
        "\n",
        "pub fn ft_isalpha(c: char) -> bool {\n",
        "    // Verifica si el carácter es una letra mayúscula o minúscula\n",
        "    c.is_ascii_alphabetic()\n",
        "}\n",
        "\n",
        "// Implementación de la función ft_isdigit\n",
        "pub fn ft_isdigit(c: char) -> bool {\n",
        "    // Verifica si el carácter es un dígito\n",
        "    c.is_ascii_digit()\n",
        "}\n",
        "\n",
        "// Función que verifica si un carácter es alfanumérico\n",
        "pub fn ft_isalnum(c: char) -> bool {\n",
        "    c.is_ascii_alphanumeric()\n",
        "}\n",
        "\n",
        "// Función que verifica si un carácter es un carácter ASCII\n",
        "pub fn ft_isascii(c: char) -> bool {\n",
        "    c.is_ascii()\n",
        "}\n",
        "\n",
        "// Función que verifica si un carácter es imprimible\n",
        "pub fn ft_isprint(c: char) -> bool {\n",
        "    c.is_ascii() && c.is_ascii_graphic()\n",
        "}\n",
        "\n",
        "// Función que convierte un carácter a mayúsculas si es una letra ASCII\n",
        "pub fn ft_toupper(c: char) -> char {\n",
        "    if c.is_ascii_alphabetic() {\n",
        "        c.to_ascii_uppercase()\n",
        "    } else {\n",
        "        c\n",
        "    }\n",
        "}\n",
        "\n",
        "// Función que convierte un carácter a minúsculas si es una letra ASCII\n",
        "pub fn ft_tolower(c: char) -> char {\n",
        "    if c.is_ascii_alphabetic() {\n",
        "        c.to_ascii_lowercase()\n",
        "    } else {\n",
        "        c\n",
        "    }\n",
        "}"
      ],
      "metadata": {
        "colab": {
          "base_uri": "https://localhost:8080/"
        },
        "id": "oTOz1WBpqKWu",
        "outputId": "72c6951c-221f-4890-c3e6-c32c0d063358"
      },
      "execution_count": 34,
      "outputs": [
        {
          "output_type": "stream",
          "name": "stdout",
          "text": [
            "Writing ctype.rs\n"
          ]
        }
      ]
    },
    {
      "cell_type": "code",
      "source": [
        "%%writefile main.rs\n",
        "mod ctype;\n",
        "\n",
        "fn main() {\n",
        "    let test_chars = ['A', 'a', '5', '$'];\n",
        "\n",
        "    for &c in &test_chars {\n",
        "        println!(\"Carácter: {}\", c);\n",
        "        println!(\"¿Es una letra alfabética?: {}\", ctype::ft_isalpha(c));\n",
        "        println!(\"¿Es un dígito?: {}\", ctype::ft_isdigit(c));\n",
        "        println!(\"¿Es alfanumérico?: {}\", ctype::ft_isalnum(c));\n",
        "        println!(\"¿Es un carácter ASCII?: {}\", ctype::ft_isascii(c));\n",
        "        println!(\"¿Es imprimible?: {}\", ctype::ft_isprint(c));\n",
        "        println!(\"Convertido a mayúsculas: {}\", ctype::ft_toupper(c));\n",
        "        println!(\"Convertido a minúsculas: {}\", ctype::ft_tolower(c));\n",
        "        println!();\n",
        "    }\n",
        "\n",
        "    // Manejar el carácter de nueva línea por separado\n",
        "    let c = '\\n';\n",
        "    println!(\"Carácter: {}\", c);\n",
        "    println!(\"¿Es una letra alfabética?: {}\", ctype::ft_isalpha(c));\n",
        "    println!(\"¿Es un dígito?: {}\", ctype::ft_isdigit(c));\n",
        "    println!(\"¿Es alfanumérico?: {}\", ctype::ft_isalnum(c));\n",
        "    println!(\"¿Es un carácter ASCII?: {}\", ctype::ft_isascii(c));\n",
        "    println!(\"¿Es imprimible?: {}\", ctype::ft_isprint(c));\n",
        "}"
      ],
      "metadata": {
        "colab": {
          "base_uri": "https://localhost:8080/"
        },
        "id": "cj8voI-Eqpt-",
        "outputId": "0a3ee3c4-c42a-4b8a-9298-d79c8690ccb4"
      },
      "execution_count": 37,
      "outputs": [
        {
          "output_type": "stream",
          "name": "stdout",
          "text": [
            "Overwriting main.rs\n"
          ]
        }
      ]
    },
    {
      "cell_type": "code",
      "source": [
        "!rustc main.rs\n",
        "!./main"
      ],
      "metadata": {
        "id": "Mt8A9baYrFLH"
      },
      "execution_count": null,
      "outputs": []
    },
    {
      "cell_type": "code",
      "source": [
        "%%writefile string.rs\n",
        "\n",
        "use std::ptr;\n",
        "\n",
        "pub fn ft_memset(ptr: *mut u8, value: u8, num: usize) {\n",
        "    unsafe {\n",
        "        ptr::write_bytes(ptr, value, num);\n",
        "    }\n",
        "}\n",
        "\n",
        "pub fn ft_strlen(s: &str) -> usize {\n",
        "    s.len()\n",
        "}\n",
        "\n",
        "pub fn ft_bzero(ptr: &mut [u8]) {\n",
        "    // Llena el slice con ceros\n",
        "    ptr.fill(0);\n",
        "}\n",
        "\n",
        "pub fn ft_memcpy(dest: &mut [u8], src: &[u8]) {\n",
        "    // Asegurarse de que los slices tengan la misma longitud\n",
        "    assert_eq!(dest.len(), src.len(), \"Slices have different lengths\");\n",
        "\n",
        "    // Copia el contenido de src a dest\n",
        "    dest.copy_from_slice(src);\n",
        "}"
      ],
      "metadata": {
        "colab": {
          "base_uri": "https://localhost:8080/"
        },
        "id": "bxiiVQ4Ttnz4",
        "outputId": "b21b4ac0-ca6f-4c10-9204-c0de4624bb74"
      },
      "execution_count": 91,
      "outputs": [
        {
          "output_type": "stream",
          "name": "stdout",
          "text": [
            "Overwriting string.rs\n"
          ]
        }
      ]
    },
    {
      "cell_type": "code",
      "source": [
        "%%writefile main.rs\n",
        "\n",
        "mod string;\n",
        "\n",
        "use string::{ft_memset, ft_strlen, ft_bzero, ft_memcpy};\n",
        "\n",
        "fn main() {\n",
        "    const SIZE1: usize = 10;\n",
        "    let mut buffer1: [u8; SIZE1] = [0; SIZE1];\n",
        "    let value = b'A';\n",
        "\n",
        "    ft_memset(buffer1.as_mut_ptr(), value, SIZE1);\n",
        "\n",
        "    println!(\"Buffer after memset:\");\n",
        "    for &byte in buffer1.iter() {\n",
        "        print!(\"{:?}\", byte as char); // Convertir a char para imprimir\n",
        "    }\n",
        "    println!();\n",
        "\n",
        "    let s = \"Hello, world!\";\n",
        "    println!(\"Length of '{}' is {}\", s, ft_strlen(s));\n",
        "\n",
        "    const SIZE2: usize = 5;\n",
        "    let mut buffer2: [u8; SIZE2] = [1, 2, 3, 4, 5];\n",
        "\n",
        "    ft_bzero(&mut buffer2);\n",
        "\n",
        "    println!(\"Buffer after bzero:\");\n",
        "    for &byte in buffer2.iter() {\n",
        "        print!(\"{:?}\", byte as char); // Convertir a char para imprimir\n",
        "    }\n",
        "    println!();\n",
        "\n",
        "    const SIZE3: usize = 5;\n",
        "    let src: [u8; SIZE3] = [1, 2, 3, 4, 5];\n",
        "    let mut dest: [u8; SIZE3] = [0; SIZE3];\n",
        "\n",
        "    ft_memcpy(&mut dest, &src);\n",
        "\n",
        "    println!(\"Destination buffer after memcpy:\");\n",
        "    for &byte in dest.iter() {\n",
        "        print!(\"{:?}\", byte as char); // Convertir a char para imprimir\n",
        "    }\n",
        "    println!();\n",
        "}"
      ],
      "metadata": {
        "colab": {
          "base_uri": "https://localhost:8080/"
        },
        "id": "6VV4ibt0uMuR",
        "outputId": "c4e8a206-f0cb-4f3c-b5a8-c0e62fbdea2f"
      },
      "execution_count": 92,
      "outputs": [
        {
          "output_type": "stream",
          "name": "stdout",
          "text": [
            "Overwriting main.rs\n"
          ]
        }
      ]
    },
    {
      "cell_type": "code",
      "source": [
        "!rustc main.rs\n",
        "!./main"
      ],
      "metadata": {
        "colab": {
          "base_uri": "https://localhost:8080/"
        },
        "id": "9OcZEvUOuRIH",
        "outputId": "48b037ec-4318-4be9-9ceb-b2dae89c214e"
      },
      "execution_count": 93,
      "outputs": [
        {
          "output_type": "stream",
          "name": "stdout",
          "text": [
            "Buffer after memset:\n",
            "'A''A''A''A''A''A''A''A''A''A'\n",
            "Length of 'Hello, world!' is 13\n",
            "Buffer after bzero:\n",
            "'\\0''\\0''\\0''\\0''\\0'\n",
            "Destination buffer after memcpy:\n",
            "'\\u{1}''\\u{2}''\\u{3}''\\u{4}''\\u{5}'\n"
          ]
        }
      ]
    },
    {
      "cell_type": "code",
      "source": [
        "%%writefile stdlib.rs\n",
        "\n",
        "pub fn ft_atoi(s: &str) -> i32 {\n",
        "    // Convierte la cadena en un iterador de caracteres y usa el método 'fold' para procesar cada carácter\n",
        "    s.chars().fold(0, |acc, c| {\n",
        "        // Si el carácter es un dígito, actualiza el acumulador multiplicándolo por 10 y sumando el dígito convertido\n",
        "        if let Some(digit) = c.to_digit(10) {\n",
        "            acc * 10 + digit as i32\n",
        "        } else {\n",
        "            // Si el carácter no es un dígito, no actualiza el acumulador\n",
        "            acc\n",
        "        }\n",
        "    })\n",
        "}"
      ],
      "metadata": {
        "colab": {
          "base_uri": "https://localhost:8080/"
        },
        "id": "cfP9pbPKyKDZ",
        "outputId": "3dfa307a-00bc-4f18-f1b2-e2d1cd6a9425"
      },
      "execution_count": 119,
      "outputs": [
        {
          "output_type": "stream",
          "name": "stdout",
          "text": [
            "Overwriting stdlib.rs\n"
          ]
        }
      ]
    },
    {
      "cell_type": "code",
      "source": [
        "%%writefile main.rs\n",
        "\n",
        "mod stdlib;\n",
        "\n",
        "use stdlib::ft_atoi;\n",
        "\n",
        "fn main() {\n",
        "    let number_str = \"12345\";\n",
        "    let number = ft_atoi(number_str);\n",
        "    println!(\"El número convertido es: {}\", number);\n",
        "}"
      ],
      "metadata": {
        "colab": {
          "base_uri": "https://localhost:8080/"
        },
        "id": "PlXaYAHuyYR8",
        "outputId": "511b82ed-7754-425d-a92d-410f8c8ea0b6"
      },
      "execution_count": 123,
      "outputs": [
        {
          "output_type": "stream",
          "name": "stdout",
          "text": [
            "Overwriting main.rs\n"
          ]
        }
      ]
    },
    {
      "cell_type": "code",
      "source": [
        "!rustc main.rs\n",
        "!./main"
      ],
      "metadata": {
        "colab": {
          "base_uri": "https://localhost:8080/"
        },
        "id": "M5AtA8ykyZ_a",
        "outputId": "c93f188e-467b-4b33-c8ef-e25978d50abd"
      },
      "execution_count": 124,
      "outputs": [
        {
          "output_type": "stream",
          "name": "stdout",
          "text": [
            "El número convertido es: 12345\n"
          ]
        }
      ]
    },
    {
      "cell_type": "code",
      "source": [
        "%%writefile main.rs\n",
        "\n",
        "mod ctype;\n",
        "mod string;\n",
        "mod stdlib;\n",
        "\n",
        "use ctype::*;\n",
        "use string::*;\n",
        "use stdlib::*;\n",
        "\n",
        "fn main() {\n",
        "    // Test de ft_isalpha\n",
        "    let test_char_alpha = 'A';\n",
        "    println!(\"Is '{}' an alphabetic character? {}\", test_char_alpha, ft_isalpha(test_char_alpha));\n",
        "\n",
        "    // Test de ft_isdigit\n",
        "    let test_char_digit = '5';\n",
        "    println!(\"Is '{}' a digit? {}\", test_char_digit, ft_isdigit(test_char_digit));\n",
        "\n",
        "    // Test de ft_isalnum\n",
        "    let test_char_alnum = 'X';\n",
        "    println!(\"Is '{}' alphanumeric? {}\", test_char_alnum, ft_isalnum(test_char_alnum));\n",
        "\n",
        "    // Test de ft_isascii\n",
        "    let test_char_ascii = '$';\n",
        "    println!(\"Is '{}' an ASCII character? {}\", test_char_ascii, ft_isascii(test_char_ascii));\n",
        "\n",
        "    // Test de ft_isprint\n",
        "    let test_char_printable = '!';\n",
        "    println!(\"Is '{}' printable? {}\", test_char_printable, ft_isprint(test_char_printable));\n",
        "\n",
        "    // Test de ft_toupper\n",
        "    let test_char_upper = 'a';\n",
        "    println!(\"Uppercase of '{}': {}\", test_char_upper, ft_toupper(test_char_upper));\n",
        "\n",
        "    // Test de ft_tolower\n",
        "    let test_char_lower = 'A';\n",
        "    println!(\"Lowercase of '{}': {}\", test_char_lower, ft_tolower(test_char_lower));\n",
        "\n",
        "    // Test de ft_memset\n",
        "    const SIZE1: usize = 10;\n",
        "    let mut buffer1: [u8; SIZE1] = [0; SIZE1];\n",
        "    let value1 = b'A';\n",
        "\n",
        "    ft_memset(buffer1.as_mut_ptr(), value1, SIZE1);\n",
        "\n",
        "    println!(\"Buffer after memset:\");\n",
        "    for &byte in buffer1.iter() {\n",
        "        print!(\"{:?}\", byte as char);\n",
        "    }\n",
        "    println!();\n",
        "\n",
        "    // Test de ft_strlen\n",
        "    let test_string = \"Hello, world!\";\n",
        "    println!(\"Length of '{}' is {}\", test_string, ft_strlen(test_string));\n",
        "\n",
        "    // Test de ft_bzero\n",
        "    const SIZE2: usize = 5;\n",
        "    let mut buffer2: [u8; SIZE2] = [1, 2, 3, 4, 5];\n",
        "\n",
        "    ft_bzero(&mut buffer2);\n",
        "\n",
        "    println!(\"Buffer after bzero:\");\n",
        "    for &byte in buffer2.iter() {\n",
        "        print!(\"{:?}\", byte as char);\n",
        "    }\n",
        "    println!();\n",
        "\n",
        "    // Test de ft_memcpy\n",
        "    const SIZE3: usize = 5;\n",
        "    let src: [u8; SIZE3] = [1, 2, 3, 4, 5];\n",
        "    let mut dest: [u8; SIZE3] = [0; SIZE3];\n",
        "\n",
        "    ft_memcpy(&mut dest, &src);\n",
        "\n",
        "    println!(\"Destination buffer after memcpy:\");\n",
        "    for &byte in dest.iter() {\n",
        "        print!(\"{:?}\", byte as char);\n",
        "    }\n",
        "    println!();\n",
        "\n",
        "    // Test de ft_atoi\n",
        "    let number_str = \"12345\";\n",
        "    let number = ft_atoi(number_str);\n",
        "    println!(\"The converted number is: {}\", number);\n",
        "}"
      ],
      "metadata": {
        "colab": {
          "base_uri": "https://localhost:8080/"
        },
        "id": "Z4W8Mmnf1KCL",
        "outputId": "4a6a9a1b-b4d1-44b1-d225-65be3a49bf13"
      },
      "execution_count": 125,
      "outputs": [
        {
          "output_type": "stream",
          "name": "stdout",
          "text": [
            "Overwriting main.rs\n"
          ]
        }
      ]
    },
    {
      "cell_type": "code",
      "source": [
        "!rustc main.rs\n",
        "!./main"
      ],
      "metadata": {
        "colab": {
          "base_uri": "https://localhost:8080/"
        },
        "id": "5zavLrv91Phq",
        "outputId": "71f1e165-2a8b-4fb6-fc3e-d7c2547c267d"
      },
      "execution_count": 126,
      "outputs": [
        {
          "output_type": "stream",
          "name": "stdout",
          "text": [
            "Is 'A' an alphabetic character? true\n",
            "Is '5' a digit? true\n",
            "Is 'X' alphanumeric? true\n",
            "Is '$' an ASCII character? true\n",
            "Is '!' printable? true\n",
            "Uppercase of 'a': A\n",
            "Lowercase of 'A': a\n",
            "Buffer after memset:\n",
            "'A''A''A''A''A''A''A''A''A''A'\n",
            "Length of 'Hello, world!' is 13\n",
            "Buffer after bzero:\n",
            "'\\0''\\0''\\0''\\0''\\0'\n",
            "Destination buffer after memcpy:\n",
            "'\\u{1}''\\u{2}''\\u{3}''\\u{4}''\\u{5}'\n",
            "The converted number is: 12345\n"
          ]
        }
      ]
    }
  ]
}