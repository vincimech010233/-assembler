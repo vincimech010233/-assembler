{
  "nbformat": 4,
  "nbformat_minor": 0,
  "metadata": {
    "colab": {
      "provenance": [],
      "authorship_tag": "ABX9TyNx48KDfS7/hg+dj/HW4c7U",
      "include_colab_link": true
    },
    "kernelspec": {
      "name": "python3",
      "display_name": "Python 3"
    },
    "language_info": {
      "name": "python"
    }
  },
  "cells": [
    {
      "cell_type": "markdown",
      "metadata": {
        "id": "view-in-github",
        "colab_type": "text"
      },
      "source": [
        "<a href=\"https://colab.research.google.com/github/vincimech010233/rust_asm/blob/master/RustPiscine42_rush00.ipynb\" target=\"_parent\"><img src=\"https://colab.research.google.com/assets/colab-badge.svg\" alt=\"Open In Colab\"/></a>"
      ]
    },
    {
      "cell_type": "code",
      "execution_count": null,
      "metadata": {
        "id": "g1CrfPnD2WCe"
      },
      "outputs": [],
      "source": [
        "!curl --proto '=https' --tlsv1.2 -sSf https://sh.rustup.rs | sh -s -- -y\n",
        "import os\n",
        "os.environ['PATH'] += \":/root/.cargo/bin\"\n",
        "!rustc --version"
      ]
    },
    {
      "cell_type": "code",
      "source": [
        "%%writefile rush00.rs\n",
        "\n",
        "fn ft_putchar(c: char) {\n",
        "    print!(\"{}\", c);\n",
        "}\n",
        "\n",
        "fn top_bottom(contadorx: i32, x: i32) {\n",
        "    let mut contadorx = contadorx;\n",
        "    while contadorx <= x {\n",
        "        if contadorx == 1 {\n",
        "            ft_putchar('o');\n",
        "        } else if contadorx != x {\n",
        "            ft_putchar('-');\n",
        "        } else if contadorx == x {\n",
        "            ft_putchar('o');\n",
        "        }\n",
        "        contadorx += 1;\n",
        "    }\n",
        "}\n",
        "\n",
        "fn middle(contadorxy: i32, x: i32) {\n",
        "    let mut contadorxy = contadorxy;\n",
        "    while contadorxy <= x {\n",
        "        if contadorxy == 1 {\n",
        "            ft_putchar('|');\n",
        "        } else if contadorxy != x {\n",
        "            ft_putchar(' ');\n",
        "        } else if contadorxy == x {\n",
        "            ft_putchar('|');\n",
        "        }\n",
        "        contadorxy += 1;\n",
        "    }\n",
        "}\n",
        "\n",
        "fn rush(x: i32, y: i32) {\n",
        "    let mut contadorx = 1;\n",
        "    let mut contadory = 1;\n",
        "    top_bottom(contadorx, x);\n",
        "    if x != 0 && y != 0 {\n",
        "        println!();\n",
        "    }\n",
        "    while contadory < y - 1 {\n",
        "        contadorx = 1;\n",
        "        middle(contadorx, x);\n",
        "        println!();\n",
        "        contadory += 1;\n",
        "    }\n",
        "    contadorx = 1;\n",
        "    if contadorx < y - 1 {\n",
        "        top_bottom(contadorx, x);\n",
        "        println!();\n",
        "    }\n",
        "}\n",
        "\n",
        "fn main() {\n",
        "    rush(54, 4);\n",
        "}"
      ],
      "metadata": {
        "colab": {
          "base_uri": "https://localhost:8080/"
        },
        "id": "2WalgPF72ivC",
        "outputId": "62fd33e9-1067-446c-ba48-fea33eda4f3d"
      },
      "execution_count": 8,
      "outputs": [
        {
          "output_type": "stream",
          "name": "stdout",
          "text": [
            "Overwriting rush00.rs\n"
          ]
        }
      ]
    },
    {
      "cell_type": "code",
      "source": [
        "!rustc rush00.rs\n",
        "!./rush00"
      ],
      "metadata": {
        "colab": {
          "base_uri": "https://localhost:8080/"
        },
        "id": "eH-TdImp3i50",
        "outputId": "7c375450-351a-451c-c4a3-c0f9c47e92c3"
      },
      "execution_count": 9,
      "outputs": [
        {
          "output_type": "stream",
          "name": "stdout",
          "text": [
            "o----------------------------------------------------o\n",
            "|                                                    |\n",
            "|                                                    |\n",
            "o----------------------------------------------------o\n"
          ]
        }
      ]
    }
  ]
}