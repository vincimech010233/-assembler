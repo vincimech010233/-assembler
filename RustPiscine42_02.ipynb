{
  "nbformat": 4,
  "nbformat_minor": 0,
  "metadata": {
    "colab": {
      "provenance": [],
      "authorship_tag": "ABX9TyOzBlLKRlDKfAQnzZSv+eQz",
      "include_colab_link": true
    },
    "kernelspec": {
      "name": "python3",
      "display_name": "Python 3"
    },
    "language_info": {
      "name": "python"
    }
  },
  "cells": [
    {
      "cell_type": "markdown",
      "metadata": {
        "id": "view-in-github",
        "colab_type": "text"
      },
      "source": [
        "<a href=\"https://colab.research.google.com/github/vincimech010233/rust_asm/blob/master/RustPiscine42_02.ipynb\" target=\"_parent\"><img src=\"https://colab.research.google.com/assets/colab-badge.svg\" alt=\"Open In Colab\"/></a>"
      ]
    },
    {
      "cell_type": "code",
      "source": [
        "!curl --proto '=https' --tlsv1.2 -sSf https://sh.rustup.rs | sh -s -- -y\n",
        "import os\n",
        "os.environ['PATH'] += \":/root/.cargo/bin\"\n",
        "!rustc --version"
      ],
      "metadata": {
        "id": "y3UTsl4Qc--3"
      },
      "execution_count": null,
      "outputs": []
    },
    {
      "cell_type": "code",
      "source": [
        "%%writefile main.rs\n",
        "\n",
        "use std::io::{self, Write};\n",
        "\n",
        "fn ft_putchar(c: char) {\n",
        "    if let Err(e) = io::stdout().write_all(&[c as u8]) {\n",
        "        eprintln!(\"Error al escribir en la salida estándar: {}\", e);\n",
        "    }\n",
        "}\n",
        "\n",
        "fn main() {\n",
        "    ft_putchar('a'); // Ejemplo\n",
        "}"
      ],
      "metadata": {
        "colab": {
          "base_uri": "https://localhost:8080/"
        },
        "id": "YLYEMHDEdmUw",
        "outputId": "7c546635-c303-4598-867e-ef7f095867e7"
      },
      "execution_count": 13,
      "outputs": [
        {
          "output_type": "stream",
          "name": "stdout",
          "text": [
            "Overwriting main.rs\n"
          ]
        }
      ]
    },
    {
      "cell_type": "code",
      "source": [
        "!rustc main.rs\n",
        "!./main"
      ],
      "metadata": {
        "colab": {
          "base_uri": "https://localhost:8080/"
        },
        "id": "E8e-pJIWdv04",
        "outputId": "5ac2ae45-cb02-43f4-d36b-23993a2a5ade"
      },
      "execution_count": 14,
      "outputs": [
        {
          "output_type": "stream",
          "name": "stdout",
          "text": [
            "a"
          ]
        }
      ]
    },
    {
      "cell_type": "code",
      "source": [
        "%%writefile main.rs\n",
        "\n",
        "fn ft_strcpy(dest: &mut String, src: &str) {\n",
        "    dest.push_str(src);\n",
        "}\n",
        "\n",
        "fn main() {\n",
        "    let mut dest = String::new();\n",
        "    let src = \"Hello, world!\";\n",
        "    ft_strcpy(&mut dest, src);\n",
        "    println!(\"Cadena copiada: {}\", dest);\n",
        "}"
      ],
      "metadata": {
        "colab": {
          "base_uri": "https://localhost:8080/"
        },
        "id": "DBbP5NP-eHUg",
        "outputId": "e5700adb-b462-43fb-c5e8-32cbdbcbfe1d"
      },
      "execution_count": 18,
      "outputs": [
        {
          "output_type": "stream",
          "name": "stdout",
          "text": [
            "Overwriting main.rs\n"
          ]
        }
      ]
    },
    {
      "cell_type": "code",
      "source": [
        "!rustc main.rs\n",
        "!./main"
      ],
      "metadata": {
        "colab": {
          "base_uri": "https://localhost:8080/"
        },
        "id": "1jg34LhOedup",
        "outputId": "9ea2140c-ef11-4751-c998-bb7d680d1998"
      },
      "execution_count": 19,
      "outputs": [
        {
          "output_type": "stream",
          "name": "stdout",
          "text": [
            "Cadena copiada: Hello, world!\n"
          ]
        }
      ]
    },
    {
      "cell_type": "code",
      "source": [
        "%%writefile main.rs\n",
        "\n",
        "fn ft_strncpy(dest: &mut String, src: &str, n: usize) {\n",
        "    let src_chars = src.chars();\n",
        "    let mut c = 0;\n",
        "    for src_char in src_chars {\n",
        "        if c < n {\n",
        "            dest.push(src_char);\n",
        "            c += 1;\n",
        "        } else {\n",
        "            break;\n",
        "        }\n",
        "    }\n",
        "    while c < n {\n",
        "        dest.push('\\0');\n",
        "        c += 1;\n",
        "    }\n",
        "}\n",
        "\n",
        "fn main() {\n",
        "    let mut dest = String::new();\n",
        "    let src = \"Hello, world!\";\n",
        "    let n = 5; // Por ejemplo, copiar solo los primeros 5 caracteres\n",
        "    ft_strncpy(&mut dest, src, n);\n",
        "    println!(\"Cadena copiada: {}\", dest);\n",
        "}"
      ],
      "metadata": {
        "colab": {
          "base_uri": "https://localhost:8080/"
        },
        "id": "cGZ7ep2Ze-1I",
        "outputId": "3092a243-b02f-4e90-b3ce-d9bba0669845"
      },
      "execution_count": 20,
      "outputs": [
        {
          "output_type": "stream",
          "name": "stdout",
          "text": [
            "Overwriting main.rs\n"
          ]
        }
      ]
    },
    {
      "cell_type": "code",
      "source": [
        "!rustc main.rs\n",
        "!./main"
      ],
      "metadata": {
        "colab": {
          "base_uri": "https://localhost:8080/"
        },
        "id": "ydWVPnnEfB8t",
        "outputId": "0e7d085e-743d-473e-d017-2396d1fb2dac"
      },
      "execution_count": 21,
      "outputs": [
        {
          "output_type": "stream",
          "name": "stdout",
          "text": [
            "Cadena copiada: Hello\n"
          ]
        }
      ]
    },
    {
      "cell_type": "code",
      "source": [
        "%%writefile main.rs\n",
        "\n",
        "fn ft_str_is_alpha(str: &str) -> bool {\n",
        "    for c in str.chars() {\n",
        "        if !c.is_alphabetic() {\n",
        "            return false;\n",
        "        }\n",
        "    }\n",
        "    true\n",
        "}\n",
        "\n",
        "fn main() {\n",
        "    let test_string1 = \"Hello\";\n",
        "    let test_string2 = \"Hello123\";\n",
        "\n",
        "    println!(\"¿'{}' contiene solo letras alfabéticas? {}\", test_string1, ft_str_is_alpha(test_string1));\n",
        "    println!(\"¿'{}' contiene solo letras alfabéticas? {}\", test_string2, ft_str_is_alpha(test_string2));\n",
        "}"
      ],
      "metadata": {
        "colab": {
          "base_uri": "https://localhost:8080/"
        },
        "id": "Vt0DtXXLfCCp",
        "outputId": "139dd601-f8cc-47bc-ad25-c93fa95f7d59"
      },
      "execution_count": 22,
      "outputs": [
        {
          "output_type": "stream",
          "name": "stdout",
          "text": [
            "Overwriting main.rs\n"
          ]
        }
      ]
    },
    {
      "cell_type": "code",
      "source": [
        "!rustc main.rs\n",
        "!./main"
      ],
      "metadata": {
        "colab": {
          "base_uri": "https://localhost:8080/"
        },
        "id": "WSp9K3ySfNYg",
        "outputId": "6716c9d8-ddc2-4f92-9365-908c18dfa9ec"
      },
      "execution_count": 23,
      "outputs": [
        {
          "output_type": "stream",
          "name": "stdout",
          "text": [
            "¿'Hello' contiene solo letras alfabéticas? true\n",
            "¿'Hello123' contiene solo letras alfabéticas? false\n"
          ]
        }
      ]
    },
    {
      "cell_type": "code",
      "source": [
        "%%writefile main.rs\n",
        "\n",
        "fn ft_str_is_numeric(str: &str) -> bool {\n",
        "    for c in str.chars() {\n",
        "        if !c.is_numeric() {\n",
        "            return false;\n",
        "        }\n",
        "    }\n",
        "    true\n",
        "}\n",
        "\n",
        "fn main() {\n",
        "    let test_string1 = \"12345\";\n",
        "    let test_string2 = \"123abc\";\n",
        "\n",
        "    println!(\"¿'{}' contiene solo caracteres numéricos? {}\", test_string1, ft_str_is_numeric(test_string1));\n",
        "    println!(\"¿'{}' contiene solo caracteres numéricos? {}\", test_string2, ft_str_is_numeric(test_string2));\n",
        "}"
      ],
      "metadata": {
        "colab": {
          "base_uri": "https://localhost:8080/"
        },
        "id": "0KAQ5QI5fVog",
        "outputId": "2fe829e8-ce56-4737-e590-ef3d2f5d2be3"
      },
      "execution_count": 24,
      "outputs": [
        {
          "output_type": "stream",
          "name": "stdout",
          "text": [
            "Overwriting main.rs\n"
          ]
        }
      ]
    },
    {
      "cell_type": "code",
      "source": [
        "!rustc main.rs\n",
        "!./main"
      ],
      "metadata": {
        "colab": {
          "base_uri": "https://localhost:8080/"
        },
        "id": "DvFcXLsofej5",
        "outputId": "57f14f4f-caa8-4d98-de2d-4f511505ae00"
      },
      "execution_count": 25,
      "outputs": [
        {
          "output_type": "stream",
          "name": "stdout",
          "text": [
            "¿'12345' contiene solo caracteres numéricos? true\n",
            "¿'123abc' contiene solo caracteres numéricos? false\n"
          ]
        }
      ]
    },
    {
      "cell_type": "code",
      "source": [
        "%%writefile main.rs\n",
        "\n",
        "fn ft_str_is_lowercase(str: &str) -> bool {\n",
        "    for c in str.chars() {\n",
        "        if !c.is_lowercase() {\n",
        "            return false;\n",
        "        }\n",
        "    }\n",
        "    true\n",
        "}\n",
        "\n",
        "fn main() {\n",
        "    let test_string1 = \"hello\";\n",
        "    let test_string2 = \"HeLLo\";\n",
        "\n",
        "    println!(\"¿'{}' contiene solo caracteres en minúsculas? {}\", test_string1, ft_str_is_lowercase(test_string1));\n",
        "    println!(\"¿'{}' contiene solo caracteres en minúsculas? {}\", test_string2, ft_str_is_lowercase(test_string2));\n",
        "}"
      ],
      "metadata": {
        "colab": {
          "base_uri": "https://localhost:8080/"
        },
        "id": "VUPCO3yCfkTY",
        "outputId": "6764681c-c222-48d1-dfe9-09c909463afc"
      },
      "execution_count": 26,
      "outputs": [
        {
          "output_type": "stream",
          "name": "stdout",
          "text": [
            "Overwriting main.rs\n"
          ]
        }
      ]
    },
    {
      "cell_type": "code",
      "source": [
        "!rustc main.rs\n",
        "!./main"
      ],
      "metadata": {
        "colab": {
          "base_uri": "https://localhost:8080/"
        },
        "id": "QYhzcSGmfuuY",
        "outputId": "93626043-02c7-4104-b914-f717b86b216e"
      },
      "execution_count": 27,
      "outputs": [
        {
          "output_type": "stream",
          "name": "stdout",
          "text": [
            "¿'hello' contiene solo caracteres en minúsculas? true\n",
            "¿'HeLLo' contiene solo caracteres en minúsculas? false\n"
          ]
        }
      ]
    },
    {
      "cell_type": "code",
      "source": [
        "%%writefile main.rs\n",
        "\n",
        "fn ft_str_is_uppercase(str: &str) -> bool {\n",
        "    for c in str.chars() {\n",
        "        if !c.is_uppercase() {\n",
        "            return false;\n",
        "        }\n",
        "    }\n",
        "    true\n",
        "}\n",
        "\n",
        "fn main() {\n",
        "    let test_string1 = \"HELLO\";\n",
        "    let test_string2 = \"HeLLo\";\n",
        "\n",
        "    println!(\"¿'{}' contiene solo caracteres en mayúsculas? {}\", test_string1, ft_str_is_uppercase(test_string1));\n",
        "    println!(\"¿'{}' contiene solo caracteres en mayúsculas? {}\", test_string2, ft_str_is_uppercase(test_string2));\n",
        "}"
      ],
      "metadata": {
        "colab": {
          "base_uri": "https://localhost:8080/"
        },
        "id": "gIfHI0-_fw4Q",
        "outputId": "6e672248-60ce-4732-dbe7-ce3aa59a4e7f"
      },
      "execution_count": 28,
      "outputs": [
        {
          "output_type": "stream",
          "name": "stdout",
          "text": [
            "Overwriting main.rs\n"
          ]
        }
      ]
    },
    {
      "cell_type": "code",
      "source": [
        "!rustc main.rs\n",
        "!./main"
      ],
      "metadata": {
        "colab": {
          "base_uri": "https://localhost:8080/"
        },
        "id": "GzQqkFi4f43C",
        "outputId": "96c7f1ac-c747-4337-8537-639bd5c3c08b"
      },
      "execution_count": 29,
      "outputs": [
        {
          "output_type": "stream",
          "name": "stdout",
          "text": [
            "¿'HELLO' contiene solo caracteres en mayúsculas? true\n",
            "¿'HeLLo' contiene solo caracteres en mayúsculas? false\n"
          ]
        }
      ]
    },
    {
      "cell_type": "code",
      "source": [
        "%%writefile main.rs\n",
        "\n",
        "fn ft_str_is_printable(str: &str) -> bool {\n",
        "    for c in str.chars() {\n",
        "        if c.is_ascii_control() || c.is_ascii_whitespace() {\n",
        "            return false;\n",
        "        }\n",
        "    }\n",
        "    true\n",
        "}\n",
        "\n",
        "fn main() {\n",
        "    let test_string1 = \"Hello, world!\";\n",
        "    let test_string2 = \"Hello\\nworld!\";\n",
        "\n",
        "    println!(\"¿'{}' contiene solo caracteres imprimibles? {}\", test_string1, ft_str_is_printable(test_string1));\n",
        "    println!(\"¿'{}' contiene solo caracteres imprimibles? {}\", test_string2, ft_str_is_printable(test_string2));\n",
        "}"
      ],
      "metadata": {
        "colab": {
          "base_uri": "https://localhost:8080/"
        },
        "id": "-PxmsbkPf7kB",
        "outputId": "591219b9-aed8-4aeb-e8b1-01863463234e"
      },
      "execution_count": 30,
      "outputs": [
        {
          "output_type": "stream",
          "name": "stdout",
          "text": [
            "Overwriting main.rs\n"
          ]
        }
      ]
    },
    {
      "cell_type": "code",
      "source": [
        "!rustc main.rs\n",
        "!./main"
      ],
      "metadata": {
        "colab": {
          "base_uri": "https://localhost:8080/"
        },
        "id": "PqSm-0DNgCfz",
        "outputId": "05308c5e-74e0-456b-b21c-ed5bddb3330d"
      },
      "execution_count": 31,
      "outputs": [
        {
          "output_type": "stream",
          "name": "stdout",
          "text": [
            "¿'Hello, world!' contiene solo caracteres imprimibles? false\n",
            "¿'Hello\n",
            "world!' contiene solo caracteres imprimibles? false\n"
          ]
        }
      ]
    },
    {
      "cell_type": "code",
      "source": [
        "%%writefile main.rs\n",
        "\n",
        "fn ft_strupcase(str: &mut String) {\n",
        "    let mut chars: Vec<char> = str.chars().collect();\n",
        "    for c in chars.iter_mut() {\n",
        "        if c.is_ascii_lowercase() {\n",
        "            *c = c.to_ascii_uppercase();\n",
        "        }\n",
        "    }\n",
        "    *str = chars.into_iter().collect();\n",
        "}\n",
        "\n",
        "fn main() {\n",
        "    let mut test_string = String::from(\"hello, world!\");\n",
        "    println!(\"Original: {}\", test_string);\n",
        "    ft_strupcase(&mut test_string);\n",
        "    println!(\"Convertido a mayúsculas: {}\", test_string);\n",
        "}"
      ],
      "metadata": {
        "colab": {
          "base_uri": "https://localhost:8080/"
        },
        "id": "CafCV3R9gGXJ",
        "outputId": "0b97d7ba-81cd-4fa7-f989-f7f71580074f"
      },
      "execution_count": 38,
      "outputs": [
        {
          "output_type": "stream",
          "name": "stdout",
          "text": [
            "Overwriting main.rs\n"
          ]
        }
      ]
    },
    {
      "cell_type": "code",
      "source": [
        "!rustc main.rs\n",
        "!./main"
      ],
      "metadata": {
        "colab": {
          "base_uri": "https://localhost:8080/"
        },
        "id": "_MC20vKagOjk",
        "outputId": "dc2472b7-7cc7-45ab-a8bb-d5ea5b6aabc0"
      },
      "execution_count": 39,
      "outputs": [
        {
          "output_type": "stream",
          "name": "stdout",
          "text": [
            "Original: hello, world!\n",
            "Convertido a mayúsculas: HELLO, WORLD!\n"
          ]
        }
      ]
    },
    {
      "cell_type": "code",
      "source": [
        "%%writefile main.rs\n",
        "\n",
        "fn ft_strlowcase(str: &mut String) {\n",
        "    str.make_ascii_lowercase();\n",
        "}\n",
        "\n",
        "fn ft_strupcase(str: &mut String) {\n",
        "    str.make_ascii_uppercase();\n",
        "}\n",
        "\n",
        "fn main() {\n",
        "    let mut test_string = String::from(\"hello, world!\");\n",
        "    println!(\"Original: {}\", test_string);\n",
        "    ft_strupcase(&mut test_string);\n",
        "    println!(\"Convertido a mayúsculas: {}\", test_string);\n",
        "\n",
        "    let mut test_string = String::from(\"HELLO, WORLD!\");\n",
        "    println!(\"Original: {}\", test_string);\n",
        "    ft_strlowcase(&mut test_string);\n",
        "    println!(\"Convertido a minúsculas: {}\", test_string);\n",
        "}"
      ],
      "metadata": {
        "colab": {
          "base_uri": "https://localhost:8080/"
        },
        "id": "B-O8-xyOgja5",
        "outputId": "74fef606-4b53-445a-f8f9-7bf282c7764a"
      },
      "execution_count": 46,
      "outputs": [
        {
          "output_type": "stream",
          "name": "stdout",
          "text": [
            "Overwriting main.rs\n"
          ]
        }
      ]
    },
    {
      "cell_type": "code",
      "source": [
        "!rustc main.rs\n",
        "!./main"
      ],
      "metadata": {
        "colab": {
          "base_uri": "https://localhost:8080/"
        },
        "id": "QgLw6q30gr6J",
        "outputId": "ff7384b7-472c-468b-bc19-57e1c42146c5"
      },
      "execution_count": 49,
      "outputs": [
        {
          "output_type": "stream",
          "name": "stdout",
          "text": [
            "Original: hello, world!\n",
            "Convertido a mayúsculas: HELLO, WORLD!\n",
            "Original: HELLO, WORLD!\n",
            "Convertido a minúsculas: hello, world!\n"
          ]
        }
      ]
    }
  ]
}