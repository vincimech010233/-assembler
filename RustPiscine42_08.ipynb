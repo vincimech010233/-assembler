{
  "nbformat": 4,
  "nbformat_minor": 0,
  "metadata": {
    "colab": {
      "provenance": [],
      "authorship_tag": "ABX9TyMQU3q74xP/rtfhBIPzFQai",
      "include_colab_link": true
    },
    "kernelspec": {
      "name": "python3",
      "display_name": "Python 3"
    },
    "language_info": {
      "name": "python"
    }
  },
  "cells": [
    {
      "cell_type": "markdown",
      "metadata": {
        "id": "view-in-github",
        "colab_type": "text"
      },
      "source": [
        "<a href=\"https://colab.research.google.com/github/vincimech010233/rust_asm/blob/master/RustPiscine42_08.ipynb\" target=\"_parent\"><img src=\"https://colab.research.google.com/assets/colab-badge.svg\" alt=\"Open In Colab\"/></a>"
      ]
    },
    {
      "cell_type": "code",
      "execution_count": null,
      "metadata": {
        "id": "SPEbnOLGsjsZ"
      },
      "outputs": [],
      "source": [
        "!curl --proto '=https' --tlsv1.2 -sSf https://sh.rustup.rs | sh -s -- -y\n",
        "import os\n",
        "os.environ['PATH'] += \":/root/.cargo/bin\"\n",
        "!rustc --version"
      ]
    },
    {
      "cell_type": "code",
      "source": [
        "%%writefile functions.rs\n",
        "pub fn hello() {\n",
        "    println!(\"Hello from functions.rs!\");\n",
        "}"
      ],
      "metadata": {
        "colab": {
          "base_uri": "https://localhost:8080/"
        },
        "id": "WO1XxFg8vGfy",
        "outputId": "adc96798-fb68-4065-9062-8b56c9a3f904"
      },
      "execution_count": 36,
      "outputs": [
        {
          "output_type": "stream",
          "name": "stdout",
          "text": [
            "Overwriting functions.rs\n"
          ]
        }
      ]
    },
    {
      "cell_type": "code",
      "source": [
        "%%writefile main.rs\n",
        "mod functions;\n",
        "\n",
        "fn main() {\n",
        "    functions::hello();\n",
        "}"
      ],
      "metadata": {
        "colab": {
          "base_uri": "https://localhost:8080/"
        },
        "id": "t1HzbQogvJaY",
        "outputId": "c191936e-8db0-4e19-cc48-c8eca57fd180"
      },
      "execution_count": 37,
      "outputs": [
        {
          "output_type": "stream",
          "name": "stdout",
          "text": [
            "Overwriting main.rs\n"
          ]
        }
      ]
    },
    {
      "cell_type": "code",
      "source": [
        "!rustc main.rs\n",
        "!./main"
      ],
      "metadata": {
        "colab": {
          "base_uri": "https://localhost:8080/"
        },
        "id": "Q_RsiEj5xqGb",
        "outputId": "9f7b4014-98b5-4b66-f62b-4ce8d7d22e54"
      },
      "execution_count": 38,
      "outputs": [
        {
          "output_type": "stream",
          "name": "stdout",
          "text": [
            "Hello from functions.rs!\n"
          ]
        }
      ]
    },
    {
      "cell_type": "code",
      "source": [
        "%%writefile ft.rs\n",
        "\n",
        "// En lugar de definir funciones en un archivo .h,\n",
        "// definirlas directamente en un módulo en Rust.\n",
        "\n",
        "\n",
        "// Declarar las funciones directamente.\n",
        "pub fn ft_putchar(c: char) {\n",
        "    print!(\"{}\", c);\n",
        "}\n",
        "\n",
        "pub fn ft_swap(a: &mut i32, b: &mut i32) {\n",
        "    let temp = *a;\n",
        "    *a = *b;\n",
        "    *b = temp;\n",
        "}\n",
        "\n",
        "pub fn ft_putstr(s: &str) {\n",
        "    print!(\"{}\", s);\n",
        "}\n",
        "\n",
        "pub fn ft_strlen(s: &str) -> usize {\n",
        "    s.len()\n",
        "}\n",
        "\n",
        "pub fn ft_strcmp(s1: &str, s2: &str) -> i32 {\n",
        "    s1.cmp(s2) as i32\n",
        "}\n"
      ],
      "metadata": {
        "colab": {
          "base_uri": "https://localhost:8080/"
        },
        "id": "q8a12vKtskLJ",
        "outputId": "ca2c8a58-fd3d-4950-a024-88fe5aaf50be"
      },
      "execution_count": 39,
      "outputs": [
        {
          "output_type": "stream",
          "name": "stdout",
          "text": [
            "Overwriting ft.rs\n"
          ]
        }
      ]
    },
    {
      "cell_type": "code",
      "source": [
        "%%writefile main.rs\n",
        "mod ft;\n",
        "\n",
        "fn main() {\n",
        "    ft::ft_putchar('A');\n",
        "    println!();\n",
        "\n",
        "    let mut x = 10;\n",
        "    let mut y = 20;\n",
        "    ft::ft_swap(&mut x, &mut y);\n",
        "    println!(\"x: {}, y: {}\", x, y);\n",
        "\n",
        "    ft::ft_putstr(\"Hello, Rust!\");\n",
        "    println!();\n",
        "\n",
        "    let s = \"Hello, Rust!\";\n",
        "    println!(\"Length of '{}': {}\", s, ft::ft_strlen(s));\n",
        "\n",
        "    let s1 = \"abc\";\n",
        "    let s2 = \"def\";\n",
        "    println!(\"Comparison result: {}\", ft::ft_strcmp(s1, s2));\n",
        "}"
      ],
      "metadata": {
        "colab": {
          "base_uri": "https://localhost:8080/"
        },
        "id": "DO8wK-NYtVm6",
        "outputId": "fc613475-6533-457a-cc3f-36623c890965"
      },
      "execution_count": 40,
      "outputs": [
        {
          "output_type": "stream",
          "name": "stdout",
          "text": [
            "Overwriting main.rs\n"
          ]
        }
      ]
    },
    {
      "cell_type": "code",
      "source": [
        "!rustc main.rs\n",
        "!./main"
      ],
      "metadata": {
        "colab": {
          "base_uri": "https://localhost:8080/"
        },
        "id": "0djiAXEqsmWj",
        "outputId": "192c3a56-abf3-416c-a343-65d64889d455"
      },
      "execution_count": 41,
      "outputs": [
        {
          "output_type": "stream",
          "name": "stdout",
          "text": [
            "A\n",
            "x: 20, y: 10\n",
            "Hello, Rust!\n",
            "Length of 'Hello, Rust!': 12\n",
            "Comparison result: -1\n"
          ]
        }
      ]
    },
    {
      "cell_type": "code",
      "source": [
        "%%writefile ft_boolean.rs\n",
        "\n",
        "// ft_boolean.rs\n",
        "pub const EVEN_MSG: &str = \"I have an even number of arguments.\\n\";\n",
        "pub const ODD_MSG: &str = \"I have an odd number of arguments.\\n\";\n",
        "\n",
        "#[macro_export]\n",
        "macro_rules! even {\n",
        "    ($nbr:expr) => {\n",
        "        $nbr % 2 == 0\n",
        "    };\n",
        "}\n",
        "\n",
        "pub fn print_even_msg() {\n",
        "    println!(\"{}\", EVEN_MSG);\n",
        "}\n",
        "\n",
        "pub fn print_odd_msg() {\n",
        "    println!(\"{}\", ODD_MSG);\n",
        "}"
      ],
      "metadata": {
        "colab": {
          "base_uri": "https://localhost:8080/"
        },
        "id": "HbMCteC-zpe0",
        "outputId": "9a4a6c09-0609-4ea5-b79e-48394e0a2d42"
      },
      "execution_count": 51,
      "outputs": [
        {
          "output_type": "stream",
          "name": "stdout",
          "text": [
            "Overwriting ft_boolean.rs\n"
          ]
        }
      ]
    },
    {
      "cell_type": "code",
      "source": [
        "%%writefile main.rs\n",
        "\n",
        "// main.rs\n",
        "mod ft_boolean;\n",
        "use ft_boolean::{print_even_msg, print_odd_msg, EVEN_MSG, ODD_MSG};\n",
        "\n",
        "fn main() {\n",
        "    let num_args = std::env::args().count() - 1;\n",
        "\n",
        "    if even!(num_args) {\n",
        "        print_even_msg();\n",
        "    } else {\n",
        "        print_odd_msg();\n",
        "    }\n",
        "\n",
        "    println!(\n",
        "        \"{}\",\n",
        "        if even!(num_args) {\n",
        "            EVEN_MSG\n",
        "        } else {\n",
        "            ODD_MSG\n",
        "        }\n",
        "    );\n",
        "}"
      ],
      "metadata": {
        "colab": {
          "base_uri": "https://localhost:8080/"
        },
        "id": "hNk_nbaj0OnC",
        "outputId": "9cb0bbf4-383e-424f-b34b-75fe5326dcba"
      },
      "execution_count": 54,
      "outputs": [
        {
          "output_type": "stream",
          "name": "stdout",
          "text": [
            "Overwriting main.rs\n"
          ]
        }
      ]
    },
    {
      "cell_type": "code",
      "source": [
        "!rustc main.rs -o main && ./main"
      ],
      "metadata": {
        "colab": {
          "base_uri": "https://localhost:8080/"
        },
        "id": "Ky6mO2Q80TT3",
        "outputId": "ccb55435-9f7d-4c82-f3f0-486d74a9d85d"
      },
      "execution_count": 55,
      "outputs": [
        {
          "output_type": "stream",
          "name": "stdout",
          "text": [
            "I have an even number of arguments.\n",
            "\n",
            "I have an even number of arguments.\n",
            "\n"
          ]
        }
      ]
    }
  ]
}