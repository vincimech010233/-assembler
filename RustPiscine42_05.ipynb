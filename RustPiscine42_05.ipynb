{
  "nbformat": 4,
  "nbformat_minor": 0,
  "metadata": {
    "colab": {
      "provenance": [],
      "authorship_tag": "ABX9TyML9InMRb9k2aNBJd7zmf32",
      "include_colab_link": true
    },
    "kernelspec": {
      "name": "python3",
      "display_name": "Python 3"
    },
    "language_info": {
      "name": "python"
    }
  },
  "cells": [
    {
      "cell_type": "markdown",
      "metadata": {
        "id": "view-in-github",
        "colab_type": "text"
      },
      "source": [
        "<a href=\"https://colab.research.google.com/github/vincimech010233/rust_asm/blob/master/RustPiscine42_05.ipynb\" target=\"_parent\"><img src=\"https://colab.research.google.com/assets/colab-badge.svg\" alt=\"Open In Colab\"/></a>"
      ]
    },
    {
      "cell_type": "code",
      "execution_count": null,
      "metadata": {
        "id": "ZpkxgNbagqpc"
      },
      "outputs": [],
      "source": [
        "!curl --proto '=https' --tlsv1.2 -sSf https://sh.rustup.rs | sh -s -- -y\n",
        "import os\n",
        "os.environ['PATH'] += \":/root/.cargo/bin\"\n",
        "!rustc --version"
      ]
    },
    {
      "cell_type": "code",
      "source": [
        "%%writefile main.rs\n",
        "\n",
        "fn ft_iterative_factorial(nb: i32) -> i32 {\n",
        "    let mut result = 1;\n",
        "\n",
        "    if nb == 0 {\n",
        "        return 1;\n",
        "    }\n",
        "    if nb < 0 {\n",
        "        return 0;\n",
        "    }\n",
        "\n",
        "    let mut num = nb;\n",
        "    while num > 1 {\n",
        "        result *= num;\n",
        "        num -= 1;\n",
        "    }\n",
        "\n",
        "    result\n",
        "}\n",
        "\n",
        "fn main() {\n",
        "    // Ejemplo\n",
        "    let number = 10;\n",
        "    let factorial = ft_iterative_factorial(number);\n",
        "    println!(\"El factorial de {} es: {}\", number, factorial);\n",
        "}"
      ],
      "metadata": {
        "colab": {
          "base_uri": "https://localhost:8080/"
        },
        "id": "Yu3TwxjBgrXA",
        "outputId": "824fd49f-c4bd-436b-c6c5-6eeef14dd6cd"
      },
      "execution_count": 9,
      "outputs": [
        {
          "output_type": "stream",
          "name": "stdout",
          "text": [
            "Overwriting main.rs\n"
          ]
        }
      ]
    },
    {
      "cell_type": "code",
      "source": [
        "!rustc main.rs\n",
        "!./main"
      ],
      "metadata": {
        "colab": {
          "base_uri": "https://localhost:8080/"
        },
        "id": "YXmJO5CXguUI",
        "outputId": "560c5133-7d83-437e-87c0-a807a8ddc462"
      },
      "execution_count": 10,
      "outputs": [
        {
          "output_type": "stream",
          "name": "stdout",
          "text": [
            "El factorial de 10 es: 3628800\n"
          ]
        }
      ]
    },
    {
      "cell_type": "code",
      "source": [
        "%%writefile main.rs\n",
        "\n",
        "fn ft_recursive_factorial(nb: i32) -> i32 {\n",
        "    if nb == 0 {\n",
        "        return 1;\n",
        "    }\n",
        "    if nb < 0 {\n",
        "        return 0;\n",
        "    }\n",
        "    nb * ft_recursive_factorial(nb - 1)\n",
        "}\n",
        "\n",
        "fn main() {\n",
        "    // Ejemplo\n",
        "    let number = 5;\n",
        "    let factorial = ft_recursive_factorial(number);\n",
        "    println!(\"El factorial de {} es: {}\", number, factorial);\n",
        "}"
      ],
      "metadata": {
        "colab": {
          "base_uri": "https://localhost:8080/"
        },
        "id": "RcXw0FH0hhEa",
        "outputId": "cf2afe36-35cb-486b-a8b9-b85263e0c7b5"
      },
      "execution_count": 11,
      "outputs": [
        {
          "output_type": "stream",
          "name": "stdout",
          "text": [
            "Overwriting main.rs\n"
          ]
        }
      ]
    },
    {
      "cell_type": "code",
      "source": [
        "!rustc main.rs\n",
        "!./main"
      ],
      "metadata": {
        "colab": {
          "base_uri": "https://localhost:8080/"
        },
        "id": "p9pDsklbhtaR",
        "outputId": "d52ca52c-c4ae-4518-f4c9-423cba1f4885"
      },
      "execution_count": 12,
      "outputs": [
        {
          "output_type": "stream",
          "name": "stdout",
          "text": [
            "El factorial de 5 es: 120\n"
          ]
        }
      ]
    },
    {
      "cell_type": "code",
      "source": [
        "%%writefile main.rs\n",
        "\n",
        "fn ft_iterative_power(nb: i32, power: i32) -> i32 {\n",
        "    let mut res = nb;\n",
        "    if power == 0 {\n",
        "        return 1;\n",
        "    }\n",
        "    if power < 0 {\n",
        "        return 0;\n",
        "    }\n",
        "    let mut pow = power;\n",
        "    while pow > 1 {\n",
        "        res *= nb;\n",
        "        pow -= 1;\n",
        "    }\n",
        "    res\n",
        "}\n",
        "\n",
        "fn main() {\n",
        "    // Ejemplo\n",
        "    let base = 2;\n",
        "    let exponent = 3;\n",
        "    let result = ft_iterative_power(base, exponent);\n",
        "    println!(\"{} elevado a {} es igual a: {}\", base, exponent, result);\n",
        "}"
      ],
      "metadata": {
        "colab": {
          "base_uri": "https://localhost:8080/"
        },
        "id": "pwt6zeT7hv2R",
        "outputId": "932901b1-c45a-4e1c-8efb-a9bd8745027e"
      },
      "execution_count": 21,
      "outputs": [
        {
          "output_type": "stream",
          "name": "stdout",
          "text": [
            "Overwriting main.rs\n"
          ]
        }
      ]
    },
    {
      "cell_type": "code",
      "source": [
        "!rustc main.rs\n",
        "!./main"
      ],
      "metadata": {
        "colab": {
          "base_uri": "https://localhost:8080/"
        },
        "id": "lIDHuA2Eh8vw",
        "outputId": "e0c59e53-f727-4383-fe9e-abaa5435fb0a"
      },
      "execution_count": 22,
      "outputs": [
        {
          "output_type": "stream",
          "name": "stdout",
          "text": [
            "2 elevado a 3 es igual a: 8\n"
          ]
        }
      ]
    },
    {
      "cell_type": "code",
      "source": [
        "%%writefile main.rs\n",
        "\n",
        "fn ft_recursive_power(nb: i32, power: i32) -> i32 {\n",
        "    if power == 0 {\n",
        "        return 1;\n",
        "    }\n",
        "    if power < 0 {\n",
        "        return 0;\n",
        "    }\n",
        "    nb * ft_recursive_power(nb, power - 1)\n",
        "}\n",
        "\n",
        "fn main() {\n",
        "    // Ejemplo\n",
        "    let base = 3;\n",
        "    let exponent = 4;\n",
        "    let result = ft_recursive_power(base, exponent);\n",
        "    println!(\"{} elevado a la {} es igual a: {}\", base, exponent, result);\n",
        "}"
      ],
      "metadata": {
        "colab": {
          "base_uri": "https://localhost:8080/"
        },
        "id": "PUouQw7ciPOp",
        "outputId": "982d4457-49b6-455b-f3f4-1b9ddfffcab9"
      },
      "execution_count": 23,
      "outputs": [
        {
          "output_type": "stream",
          "name": "stdout",
          "text": [
            "Overwriting main.rs\n"
          ]
        }
      ]
    },
    {
      "cell_type": "code",
      "source": [
        "!rustc main.rs\n",
        "!./main"
      ],
      "metadata": {
        "colab": {
          "base_uri": "https://localhost:8080/"
        },
        "id": "Z-X0XJmwicKp",
        "outputId": "ef8a7e52-093f-4116-f2f4-df57e6f4de6d"
      },
      "execution_count": 24,
      "outputs": [
        {
          "output_type": "stream",
          "name": "stdout",
          "text": [
            "3 elevado a la 4 es igual a: 81\n"
          ]
        }
      ]
    },
    {
      "cell_type": "code",
      "source": [
        "%%writefile main.rs\n",
        "\n",
        "fn ft_fibonacci(index: i32) -> i32 {\n",
        "    if index < 0 {\n",
        "        return -1;\n",
        "    }\n",
        "    if index <= 1 {\n",
        "        return index;\n",
        "    }\n",
        "    ft_fibonacci(index - 1) + ft_fibonacci(index - 2)\n",
        "}\n",
        "\n",
        "fn main() {\n",
        "    // Ejemplo\n",
        "    let index = 6;\n",
        "    let result = ft_fibonacci(index);\n",
        "    println!(\"El valor en la posición {} de la secuencia de Fibonacci es: {}\", index, result);\n",
        "}"
      ],
      "metadata": {
        "colab": {
          "base_uri": "https://localhost:8080/"
        },
        "id": "4EAxlVgciovC",
        "outputId": "bc8e7728-2ed4-4d3d-e983-22a35f3b6494"
      },
      "execution_count": 31,
      "outputs": [
        {
          "output_type": "stream",
          "name": "stdout",
          "text": [
            "Overwriting main.rs\n"
          ]
        }
      ]
    },
    {
      "cell_type": "code",
      "source": [
        "!rustc main.rs\n",
        "!./main"
      ],
      "metadata": {
        "colab": {
          "base_uri": "https://localhost:8080/"
        },
        "id": "l-kZapxUisdh",
        "outputId": "617f31a8-9f0e-43c7-e971-32cddb5fbbae"
      },
      "execution_count": 32,
      "outputs": [
        {
          "output_type": "stream",
          "name": "stdout",
          "text": [
            "El valor en la posición 6 de la secuencia de Fibonacci es: 8\n"
          ]
        }
      ]
    },
    {
      "cell_type": "code",
      "source": [
        "%%writefile main.rs\n",
        "\n",
        "fn ft_sqrt(nb: i32) -> i32 {\n",
        "    let mut i = 1;\n",
        "    while i * i <= nb && i < 46341 {\n",
        "        i += 1;\n",
        "    }\n",
        "    i -= 1;\n",
        "    if i * i == nb {\n",
        "        return i;\n",
        "    }\n",
        "    0\n",
        "}\n",
        "\n",
        "fn main() {\n",
        "    // Ejemplo\n",
        "    let nb = -25;\n",
        "    let result = ft_sqrt(nb);\n",
        "    println!(\"La raíz cuadrada de {} es: {}\", nb, result);\n",
        "}"
      ],
      "metadata": {
        "colab": {
          "base_uri": "https://localhost:8080/"
        },
        "id": "vNATI_lci_2i",
        "outputId": "db9dabc4-818b-45c6-e2ac-68b4e9b6b086"
      },
      "execution_count": 35,
      "outputs": [
        {
          "output_type": "stream",
          "name": "stdout",
          "text": [
            "Overwriting main.rs\n"
          ]
        }
      ]
    },
    {
      "cell_type": "code",
      "source": [
        "!rustc main.rs\n",
        "!./main"
      ],
      "metadata": {
        "colab": {
          "base_uri": "https://localhost:8080/"
        },
        "id": "b_54txEejNWJ",
        "outputId": "76137615-f55a-4274-b2f3-69d6e2f7459c"
      },
      "execution_count": 36,
      "outputs": [
        {
          "output_type": "stream",
          "name": "stdout",
          "text": [
            "La raíz cuadrada de -25 es: 0\n"
          ]
        }
      ]
    },
    {
      "cell_type": "code",
      "source": [
        "%%writefile main.rs\n",
        "\n",
        "fn ft_is_prime(nb: i32) -> bool {\n",
        "    if nb < 2 {\n",
        "        return false;\n",
        "    }\n",
        "    let mut i = 2;\n",
        "    while i < nb {\n",
        "        if nb % i == 0 {\n",
        "            return false;\n",
        "        }\n",
        "        i += 1;\n",
        "    }\n",
        "    true\n",
        "}\n",
        "\n",
        "fn main() {\n",
        "    // Ejemplo\n",
        "    let nb = 14;\n",
        "    if ft_is_prime(nb) {\n",
        "        println!(\"{} es primo\", nb);\n",
        "    } else {\n",
        "        println!(\"{} no es primo\", nb);\n",
        "    }\n",
        "}"
      ],
      "metadata": {
        "colab": {
          "base_uri": "https://localhost:8080/"
        },
        "id": "T5iYuJCnjU-J",
        "outputId": "2fc97d25-3677-4c0c-d8a7-bce2290ab8b7"
      },
      "execution_count": 39,
      "outputs": [
        {
          "output_type": "stream",
          "name": "stdout",
          "text": [
            "Overwriting main.rs\n"
          ]
        }
      ]
    },
    {
      "cell_type": "code",
      "source": [
        "!rustc main.rs\n",
        "!./main"
      ],
      "metadata": {
        "colab": {
          "base_uri": "https://localhost:8080/"
        },
        "id": "SjvMM2N4jiai",
        "outputId": "a75e1502-6410-4790-a7ff-6c5de5d53478"
      },
      "execution_count": 40,
      "outputs": [
        {
          "output_type": "stream",
          "name": "stdout",
          "text": [
            "14 no es primo\n"
          ]
        }
      ]
    },
    {
      "cell_type": "code",
      "source": [
        "%%writefile main.rs\n",
        "\n",
        "fn ft_is_prime(nb: i32) -> bool {\n",
        "    if nb <= 1 {\n",
        "        return false;\n",
        "    }\n",
        "    if nb == 2 {\n",
        "        return true;\n",
        "    }\n",
        "    if nb % 2 == 0 {\n",
        "        return false;\n",
        "    }\n",
        "    let mut i = 3;\n",
        "    while i * i <= nb {\n",
        "        if nb % i == 0 {\n",
        "            return false;\n",
        "        }\n",
        "        i += 2;\n",
        "    }\n",
        "    true\n",
        "}\n",
        "\n",
        "fn ft_find_next_prime(mut nb: i32) -> i32 {\n",
        "    nb += 1;\n",
        "    while !ft_is_prime(nb) {\n",
        "        nb += 1;\n",
        "    }\n",
        "    nb\n",
        "}\n",
        "\n",
        "fn main() {\n",
        "    // Ejemplo\n",
        "    let nb = 17;\n",
        "    println!(\"El siguiente número primo después de {} es: {}\", nb, ft_find_next_prime(nb));\n",
        "}"
      ],
      "metadata": {
        "colab": {
          "base_uri": "https://localhost:8080/"
        },
        "id": "HQAWP3XbjqdR",
        "outputId": "e3669338-f157-4896-d37b-d0e652db3ffe"
      },
      "execution_count": 44,
      "outputs": [
        {
          "output_type": "stream",
          "name": "stdout",
          "text": [
            "Overwriting main.rs\n"
          ]
        }
      ]
    },
    {
      "cell_type": "code",
      "source": [
        "!rustc main.rs\n",
        "!./main"
      ],
      "metadata": {
        "colab": {
          "base_uri": "https://localhost:8080/"
        },
        "id": "nPq9aoxxj3GJ",
        "outputId": "6a8e5314-9c0b-47fc-e7f0-f7891d290f0c"
      },
      "execution_count": 45,
      "outputs": [
        {
          "output_type": "stream",
          "name": "stdout",
          "text": [
            "El siguiente número primo después de 17 es: 19\n"
          ]
        }
      ]
    }
  ]
}