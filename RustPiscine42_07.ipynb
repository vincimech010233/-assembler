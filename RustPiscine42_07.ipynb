{
  "nbformat": 4,
  "nbformat_minor": 0,
  "metadata": {
    "colab": {
      "provenance": [],
      "authorship_tag": "ABX9TyPJSXkTBIDf9HhPLe6XF1t0",
      "include_colab_link": true
    },
    "kernelspec": {
      "name": "python3",
      "display_name": "Python 3"
    },
    "language_info": {
      "name": "python"
    }
  },
  "cells": [
    {
      "cell_type": "markdown",
      "metadata": {
        "id": "view-in-github",
        "colab_type": "text"
      },
      "source": [
        "<a href=\"https://colab.research.google.com/github/vincimech010233/rust_asm/blob/master/RustPiscine42_07.ipynb\" target=\"_parent\"><img src=\"https://colab.research.google.com/assets/colab-badge.svg\" alt=\"Open In Colab\"/></a>"
      ]
    },
    {
      "cell_type": "code",
      "execution_count": null,
      "metadata": {
        "id": "HjZGhc6GpUuN"
      },
      "outputs": [],
      "source": [
        "!curl --proto '=https' --tlsv1.2 -sSf https://sh.rustup.rs | sh -s -- -y\n",
        "import os\n",
        "os.environ['PATH'] += \":/root/.cargo/bin\"\n",
        "!rustc --version"
      ]
    },
    {
      "cell_type": "code",
      "source": [
        "%%writefile main.rs\n",
        "\n",
        "fn ft_strdup(src: &str) -> String {\n",
        "    src.to_string()\n",
        "}\n",
        "\n",
        "fn main() {\n",
        "    let src = \"Hello, world!\";\n",
        "    let dest = ft_strdup(src);\n",
        "    println!(\"src: {}\", src);\n",
        "    println!(\"dest: {}\", dest);\n",
        "}"
      ],
      "metadata": {
        "colab": {
          "base_uri": "https://localhost:8080/"
        },
        "id": "QrCB-ybZpWJY",
        "outputId": "21dd6638-4ab4-4db5-cb90-a83905b1e2e3"
      },
      "execution_count": 3,
      "outputs": [
        {
          "output_type": "stream",
          "name": "stdout",
          "text": [
            "Overwriting main.rs\n"
          ]
        }
      ]
    },
    {
      "cell_type": "code",
      "source": [
        "!rustc main.rs\n",
        "!./main"
      ],
      "metadata": {
        "colab": {
          "base_uri": "https://localhost:8080/"
        },
        "id": "50lVxMtJpXrI",
        "outputId": "882db4f8-b680-4b8e-874d-76479d8de783"
      },
      "execution_count": 4,
      "outputs": [
        {
          "output_type": "stream",
          "name": "stdout",
          "text": [
            "src: Hello, world!\n",
            "dest: Hello, world!\n"
          ]
        }
      ]
    },
    {
      "cell_type": "code",
      "source": [
        "%%writefile main.rs\n",
        "\n",
        "fn ft_range(min: i32, max: i32) -> Option<Vec<i32>> {\n",
        "    if min >= max {\n",
        "        return None;\n",
        "    }\n",
        "    Some((min..max).collect())\n",
        "}\n",
        "\n",
        "fn main() {\n",
        "    let min = 5;\n",
        "    let max = 10;\n",
        "    match ft_range(min, max) {\n",
        "        Some(range) => println!(\"{:?}\", range),\n",
        "        None => println!(\"Error: min debe ser menor que max\"),\n",
        "    }\n",
        "}"
      ],
      "metadata": {
        "colab": {
          "base_uri": "https://localhost:8080/"
        },
        "id": "UklioE_2px8B",
        "outputId": "5b8a16b9-eb6d-431c-cbd0-d602f3147179"
      },
      "execution_count": 13,
      "outputs": [
        {
          "output_type": "stream",
          "name": "stdout",
          "text": [
            "Overwriting main.rs\n"
          ]
        }
      ]
    },
    {
      "cell_type": "code",
      "source": [
        "!rustc main.rs\n",
        "!./main"
      ],
      "metadata": {
        "colab": {
          "base_uri": "https://localhost:8080/"
        },
        "id": "43WA-zmbpyl6",
        "outputId": "343d8b12-fbe7-4d26-f6c6-8dd1f541210f"
      },
      "execution_count": 14,
      "outputs": [
        {
          "output_type": "stream",
          "name": "stdout",
          "text": [
            "[5, 6, 7, 8, 9]\n"
          ]
        }
      ]
    },
    {
      "cell_type": "code",
      "source": [
        "%%writefile main.rs\n",
        "\n",
        "fn ft_ultimate_range(min: i32, max: i32) -> Option<Vec<i32>> {\n",
        "    if min >= max {\n",
        "        return None;\n",
        "    }\n",
        "    let diff = max - min;\n",
        "    let mut range = Vec::with_capacity(diff as usize);\n",
        "    for i in min..max {\n",
        "        range.push(i);\n",
        "    }\n",
        "    Some(range)\n",
        "}\n",
        "\n",
        "fn main() {\n",
        "    let mut range: *mut i32 = std::ptr::null_mut();\n",
        "    let min = 5;\n",
        "    let max = 10;\n",
        "    let diff = ft_ultimate_range(min, max);\n",
        "    match diff {\n",
        "        Some(mut vec) => {\n",
        "            let range_ptr = vec.as_mut_ptr();\n",
        "            // Avoid deallocation when vec is dropped at the end of the scope\n",
        "            std::mem::forget(vec);\n",
        "            range = range_ptr;\n",
        "        },\n",
        "        None => println!(\"Error: min debe ser menor que max\"),\n",
        "    }\n",
        "    if !range.is_null() {\n",
        "        unsafe {\n",
        "            for i in 0..(max - min) {\n",
        "                println!(\"{}\", *range.offset(i as isize));\n",
        "            }\n",
        "            // Libera la memoria después de su uso\n",
        "            std::alloc::dealloc(range as *mut u8, std::alloc::Layout::array::<i32>(max as usize - min as usize).unwrap());\n",
        "        }\n",
        "    }\n",
        "}"
      ],
      "metadata": {
        "colab": {
          "base_uri": "https://localhost:8080/"
        },
        "id": "F4NLY8UqqGNx",
        "outputId": "38d840a8-ca59-4217-d408-c8ce07f14548"
      },
      "execution_count": 17,
      "outputs": [
        {
          "output_type": "stream",
          "name": "stdout",
          "text": [
            "Overwriting main.rs\n"
          ]
        }
      ]
    },
    {
      "cell_type": "code",
      "source": [
        "!rustc main.rs\n",
        "!./main"
      ],
      "metadata": {
        "colab": {
          "base_uri": "https://localhost:8080/"
        },
        "id": "fydHaVe6qIVw",
        "outputId": "3bd45973-9839-4909-ed9a-c3aa93f1b87f"
      },
      "execution_count": 18,
      "outputs": [
        {
          "output_type": "stream",
          "name": "stdout",
          "text": [
            "5\n",
            "6\n",
            "7\n",
            "8\n",
            "9\n"
          ]
        }
      ]
    },
    {
      "cell_type": "code",
      "source": [
        "%%writefile main.rs\n",
        "\n",
        "fn ft_strjoin(size: usize, strs: Vec<&str>, sep: &str) -> String {\n",
        "    if size == 0 {\n",
        "        return String::new();\n",
        "    }\n",
        "\n",
        "    let mut lent = 0;\n",
        "    for s in &strs {\n",
        "        lent += s.len();\n",
        "    }\n",
        "    lent += sep.len() * (size - 1);\n",
        "\n",
        "    let mut dest = String::with_capacity(lent);\n",
        "    for (i, s) in strs.iter().enumerate() {\n",
        "        dest.push_str(s);\n",
        "        if i < size - 1 {\n",
        "            dest.push_str(sep);\n",
        "        }\n",
        "    }\n",
        "    dest\n",
        "}\n",
        "\n",
        "fn main() {\n",
        "    let strs = vec![\"hello\", \"world\", \"rust\"];\n",
        "    let sep = \", \";\n",
        "    let result = ft_strjoin(strs.len(), strs, sep);\n",
        "    println!(\"{}\", result); // Output: hello, world, rust\n",
        "}"
      ],
      "metadata": {
        "colab": {
          "base_uri": "https://localhost:8080/"
        },
        "id": "67lr3C62q7QI",
        "outputId": "e22f924b-c56a-402c-aa42-a16992902a61"
      },
      "execution_count": 19,
      "outputs": [
        {
          "output_type": "stream",
          "name": "stdout",
          "text": [
            "Overwriting main.rs\n"
          ]
        }
      ]
    },
    {
      "cell_type": "code",
      "source": [
        "!rustc main.rs\n",
        "!./main"
      ],
      "metadata": {
        "colab": {
          "base_uri": "https://localhost:8080/"
        },
        "id": "80rZCM4krDmA",
        "outputId": "c45c4f79-cccc-4ae7-8df6-c916100a7cc6"
      },
      "execution_count": 20,
      "outputs": [
        {
          "output_type": "stream",
          "name": "stdout",
          "text": [
            "hello, world, rust\n"
          ]
        }
      ]
    }
  ]
}