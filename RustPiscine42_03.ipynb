{
  "nbformat": 4,
  "nbformat_minor": 0,
  "metadata": {
    "colab": {
      "provenance": [],
      "authorship_tag": "ABX9TyOo+8gcCpIhipKsqp/pb7Sc",
      "include_colab_link": true
    },
    "kernelspec": {
      "name": "python3",
      "display_name": "Python 3"
    },
    "language_info": {
      "name": "python"
    }
  },
  "cells": [
    {
      "cell_type": "markdown",
      "metadata": {
        "id": "view-in-github",
        "colab_type": "text"
      },
      "source": [
        "<a href=\"https://colab.research.google.com/github/vincimech010233/rust_asm/blob/master/RustPiscine42_03.ipynb\" target=\"_parent\"><img src=\"https://colab.research.google.com/assets/colab-badge.svg\" alt=\"Open In Colab\"/></a>"
      ]
    },
    {
      "cell_type": "code",
      "execution_count": null,
      "metadata": {
        "id": "KVLvzuPcY5TM"
      },
      "outputs": [],
      "source": [
        "!curl --proto '=https' --tlsv1.2 -sSf https://sh.rustup.rs | sh -s -- -y\n",
        "import os\n",
        "os.environ['PATH'] += \":/root/.cargo/bin\"\n",
        "!rustc --version"
      ]
    },
    {
      "cell_type": "code",
      "source": [
        "%%writefile main.rs\n",
        "\n",
        "use std::cmp::Ordering;\n",
        "\n",
        "fn ft_strcmp(s1: &str, s2: &str) -> Ordering {\n",
        "    for (char1, char2) in s1.chars().zip(s2.chars()) {\n",
        "        match char1.cmp(&char2) {\n",
        "            Ordering::Equal => continue,\n",
        "            non_equal => return non_equal,\n",
        "        }\n",
        "    }\n",
        "    s1.len().cmp(&s2.len())\n",
        "}\n",
        "\n",
        "fn main() {\n",
        "    // Ejemplo\n",
        "    let s1 = \"Hello1\";\n",
        "    let s2 = \"Hello\";\n",
        "    match ft_strcmp(s1, s2) {\n",
        "        Ordering::Less => println!(\"{} es menor que {}\", s1, s2),\n",
        "        Ordering::Greater => println!(\"{} es mayor que {}\", s1, s2),\n",
        "        Ordering::Equal => println!(\"{} es igual a {}\", s1, s2),\n",
        "    }\n",
        "}\n"
      ],
      "metadata": {
        "colab": {
          "base_uri": "https://localhost:8080/"
        },
        "id": "WCHD8TlyZBMW",
        "outputId": "7a4ddd8b-05d4-405f-c5ee-e2472f4ce51f"
      },
      "execution_count": 5,
      "outputs": [
        {
          "output_type": "stream",
          "name": "stdout",
          "text": [
            "Overwriting main.rs\n"
          ]
        }
      ]
    },
    {
      "cell_type": "code",
      "source": [
        "!rustc main.rs\n",
        "!./main"
      ],
      "metadata": {
        "colab": {
          "base_uri": "https://localhost:8080/"
        },
        "id": "sgL9lDq1ZJPG",
        "outputId": "235358e1-61a5-4ae7-dfa1-c3105b110306"
      },
      "execution_count": 6,
      "outputs": [
        {
          "output_type": "stream",
          "name": "stdout",
          "text": [
            "Hello1 es mayor que Hello\n"
          ]
        }
      ]
    },
    {
      "cell_type": "code",
      "source": [
        "%%writefile main.rs\n",
        "\n",
        "fn ft_strncmp(s1: &str, s2: &str, n: usize) -> i32 {\n",
        "    let mut i = 0;\n",
        "    while (i < n) && (s1.chars().nth(i) != None || s2.chars().nth(i) != None) {\n",
        "        if let (Some(char1), Some(char2)) = (s1.chars().nth(i), s2.chars().nth(i)) {\n",
        "            if char1 < char2 {\n",
        "                return -1;\n",
        "            } else if char1 > char2 {\n",
        "                return 1;\n",
        "            }\n",
        "        } else {\n",
        "            break;\n",
        "        }\n",
        "        i += 1;\n",
        "    }\n",
        "    0\n",
        "}\n",
        "\n",
        "fn main() {\n",
        "    // Ejemplo\n",
        "    let s1 = \"Hello\";\n",
        "    let s2 = \"Hello\";\n",
        "    let n = 5;\n",
        "    println!(\"{}\", ft_strncmp(s1, s2, n));\n",
        "}"
      ],
      "metadata": {
        "colab": {
          "base_uri": "https://localhost:8080/"
        },
        "id": "ZfHqCNoeZWQL",
        "outputId": "9af8574a-702b-4837-b081-27c3b0689ec0"
      },
      "execution_count": 11,
      "outputs": [
        {
          "output_type": "stream",
          "name": "stdout",
          "text": [
            "Overwriting main.rs\n"
          ]
        }
      ]
    },
    {
      "cell_type": "code",
      "source": [
        "!rustc main.rs\n",
        "!./main"
      ],
      "metadata": {
        "colab": {
          "base_uri": "https://localhost:8080/"
        },
        "id": "TOXBpEwJZpOh",
        "outputId": "e17da23c-5a6e-4904-c50f-124c601f5650"
      },
      "execution_count": 12,
      "outputs": [
        {
          "output_type": "stream",
          "name": "stdout",
          "text": [
            "0\n"
          ]
        }
      ]
    },
    {
      "cell_type": "code",
      "source": [
        "%%writefile main.rs\n",
        "\n",
        "fn ft_strcat<'a>(dest: &'a mut String, src: &'a str) -> &'a str {\n",
        "    let dest_len = dest.len();\n",
        "    dest.push_str(src);\n",
        "    // Devuelve una referencia al substring agregado a dest\n",
        "    &dest[dest_len..]\n",
        "}\n",
        "\n",
        "fn main() {\n",
        "    // Ejemplo\n",
        "    let mut dest = String::from(\"Hello, \");\n",
        "    let src = \"world!\";\n",
        "    ft_strcat(&mut dest, src);\n",
        "    println!(\"{}\", dest); // Imprime \"Hello, world!\"\n",
        "}\n"
      ],
      "metadata": {
        "colab": {
          "base_uri": "https://localhost:8080/"
        },
        "id": "SorXn5UWZ13c",
        "outputId": "48e5d469-acb1-4900-9a21-92c8b9a3a2c3"
      },
      "execution_count": 15,
      "outputs": [
        {
          "output_type": "stream",
          "name": "stdout",
          "text": [
            "Overwriting main.rs\n"
          ]
        }
      ]
    },
    {
      "cell_type": "code",
      "source": [
        "!rustc main.rs\n",
        "!./main"
      ],
      "metadata": {
        "colab": {
          "base_uri": "https://localhost:8080/"
        },
        "id": "bKFPWI_gaDol",
        "outputId": "146fc0e8-8f69-4ee6-c537-71530caf2a7a"
      },
      "execution_count": 16,
      "outputs": [
        {
          "output_type": "stream",
          "name": "stdout",
          "text": [
            "Hello, world!\n"
          ]
        }
      ]
    },
    {
      "cell_type": "code",
      "source": [
        "%%writefile main.rs\n",
        "\n",
        "fn ft_strncat<'a>(dest: &'a mut String, src: &'a str, nb: usize) -> &'a str {\n",
        "    let dest_len = dest.len();\n",
        "    for (i, c) in src.chars().enumerate() {\n",
        "        if i >= nb {\n",
        "            break;\n",
        "        }\n",
        "        dest.push(c);\n",
        "    }\n",
        "    // Devuelve una referencia al substring agregado a dest\n",
        "    &dest[dest_len..]\n",
        "}\n",
        "\n",
        "fn main() {\n",
        "    // Ejemplo\n",
        "    let mut dest = String::from(\"Hello, \");\n",
        "    let src = \"world!\";\n",
        "    let nb = 4;\n",
        "    ft_strncat(&mut dest, src, nb);\n",
        "    println!(\"{}\", dest); // Imprime \"Hello, worl\"\n",
        "}"
      ],
      "metadata": {
        "colab": {
          "base_uri": "https://localhost:8080/"
        },
        "id": "NS8qCaBYaRCn",
        "outputId": "188dac8f-6ac8-4324-a6b9-79c4386d9b04"
      },
      "execution_count": 21,
      "outputs": [
        {
          "output_type": "stream",
          "name": "stdout",
          "text": [
            "Overwriting main.rs\n"
          ]
        }
      ]
    },
    {
      "cell_type": "code",
      "source": [
        "!rustc main.rs\n",
        "!./main"
      ],
      "metadata": {
        "colab": {
          "base_uri": "https://localhost:8080/"
        },
        "id": "jnmQaOuHaslg",
        "outputId": "b84758e0-7b18-497f-d992-99bf13007330"
      },
      "execution_count": 22,
      "outputs": [
        {
          "output_type": "stream",
          "name": "stdout",
          "text": [
            "Hello, worl\n"
          ]
        }
      ]
    },
    {
      "cell_type": "code",
      "source": [
        "%%writefile main.rs\n",
        "\n",
        "fn ft_strstr<'a>(s: &'a str, to_find: &str) -> Option<&'a str> {\n",
        "    if to_find.is_empty() {\n",
        "        return Some(s);\n",
        "    }\n",
        "    for i in 0..s.len() {\n",
        "        if s[i..].starts_with(to_find) {\n",
        "            return Some(&s[i..]);\n",
        "        }\n",
        "    }\n",
        "    None\n",
        "}\n",
        "\n",
        "fn main() {\n",
        "    // Ejemplo\n",
        "    let s = \"Hello, world!\";\n",
        "    let to_find = \"orl\";\n",
        "    match ft_strstr(s, to_find) {\n",
        "        Some(substr) => println!(\"Substring encontrado: {}\", substr),\n",
        "        None => println!(\"Substring no encontrado\"),\n",
        "    }\n",
        "}\n"
      ],
      "metadata": {
        "colab": {
          "base_uri": "https://localhost:8080/"
        },
        "id": "4b0WT5-ta74f",
        "outputId": "b7cb6db9-0218-4c71-98ed-90c947d10b87"
      },
      "execution_count": 25,
      "outputs": [
        {
          "output_type": "stream",
          "name": "stdout",
          "text": [
            "Overwriting main.rs\n"
          ]
        }
      ]
    },
    {
      "cell_type": "code",
      "source": [
        "!rustc main.rs\n",
        "!./main"
      ],
      "metadata": {
        "colab": {
          "base_uri": "https://localhost:8080/"
        },
        "id": "u6tIWAWtbKyn",
        "outputId": "cb335988-7163-4826-fc37-bc37ddd40c92"
      },
      "execution_count": 26,
      "outputs": [
        {
          "output_type": "stream",
          "name": "stdout",
          "text": [
            "Substring encontrado: orld!\n"
          ]
        }
      ]
    },
    {
      "cell_type": "code",
      "source": [
        "%%writefile main.rs\n",
        "\n",
        "fn ft_strlcat(dest: &mut String, src: &str, size: usize) -> usize {\n",
        "    let dest_len = dest.len();\n",
        "    let src_len = src.len();\n",
        "    let remaining_space = size.checked_sub(dest_len + 1).unwrap_or(0);\n",
        "\n",
        "    if remaining_space == 0 {\n",
        "        return dest_len + src_len;\n",
        "    }\n",
        "\n",
        "    let num_to_copy = src_len.min(remaining_space);\n",
        "    dest.push_str(&src[..num_to_copy]);\n",
        "    dest_len + num_to_copy\n",
        "}\n",
        "\n",
        "fn main() {\n",
        "    // Ejemplo\n",
        "    let mut dest = String::from(\"Hello, \");\n",
        "    let src = \"world!\";\n",
        "    let size = 12;\n",
        "    let new_length = ft_strlcat(&mut dest, src, size);\n",
        "    println!(\"La nueva cadena es: '{}', y su longitud es: {}\", dest, new_length);\n",
        "}"
      ],
      "metadata": {
        "colab": {
          "base_uri": "https://localhost:8080/"
        },
        "id": "xir4x5d5bSry",
        "outputId": "d72be000-57cf-4004-c640-a163131d167d"
      },
      "execution_count": 40,
      "outputs": [
        {
          "output_type": "stream",
          "name": "stdout",
          "text": [
            "Overwriting main.rs\n"
          ]
        }
      ]
    },
    {
      "cell_type": "code",
      "source": [
        "!rustc main.rs\n",
        "!./main"
      ],
      "metadata": {
        "colab": {
          "base_uri": "https://localhost:8080/"
        },
        "id": "ieLaWraTbgfw",
        "outputId": "81d822e1-eacb-4b62-cae3-a1fb2f909541"
      },
      "execution_count": 41,
      "outputs": [
        {
          "output_type": "stream",
          "name": "stdout",
          "text": [
            "La nueva cadena es: 'Hello, worl', y su longitud es: 11\n"
          ]
        }
      ]
    }
  ]
}