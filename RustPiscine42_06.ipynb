{
  "nbformat": 4,
  "nbformat_minor": 0,
  "metadata": {
    "colab": {
      "provenance": [],
      "authorship_tag": "ABX9TyNt+lKrMUwEjmjqBulhrcot",
      "include_colab_link": true
    },
    "kernelspec": {
      "name": "python3",
      "display_name": "Python 3"
    },
    "language_info": {
      "name": "python"
    }
  },
  "cells": [
    {
      "cell_type": "markdown",
      "metadata": {
        "id": "view-in-github",
        "colab_type": "text"
      },
      "source": [
        "<a href=\"https://colab.research.google.com/github/vincimech010233/rust_asm/blob/master/RustPiscine42_06.ipynb\" target=\"_parent\"><img src=\"https://colab.research.google.com/assets/colab-badge.svg\" alt=\"Open In Colab\"/></a>"
      ]
    },
    {
      "cell_type": "code",
      "execution_count": null,
      "metadata": {
        "id": "HhaL8jxtmF45"
      },
      "outputs": [],
      "source": [
        "!curl --proto '=https' --tlsv1.2 -sSf https://sh.rustup.rs | sh -s -- -y\n",
        "import os\n",
        "os.environ['PATH'] += \":/root/.cargo/bin\"\n",
        "!rustc --version"
      ]
    },
    {
      "cell_type": "code",
      "source": [
        "%%writefile example.rs\n",
        "\n",
        "use std::env;\n",
        "\n",
        "fn ft_putstr(s: &str) {\n",
        "    print!(\"{}\", s);\n",
        "}\n",
        "\n",
        "fn main() {\n",
        "    if let Some(arg) = env::args().nth(0) {\n",
        "        ft_putstr(&arg);\n",
        "        println!();\n",
        "    }\n",
        "}"
      ],
      "metadata": {
        "colab": {
          "base_uri": "https://localhost:8080/"
        },
        "id": "f18wOESGmVGY",
        "outputId": "adafcc30-f012-4f95-d1cd-f6d9c9d176f0"
      },
      "execution_count": 6,
      "outputs": [
        {
          "output_type": "stream",
          "name": "stdout",
          "text": [
            "Writing example.rs\n"
          ]
        }
      ]
    },
    {
      "cell_type": "code",
      "source": [
        "!rustc example.rs\n",
        "!./example"
      ],
      "metadata": {
        "colab": {
          "base_uri": "https://localhost:8080/"
        },
        "id": "4ngZBmeamWe-",
        "outputId": "ab4bfcdd-a7df-4f97-87b5-ab75166586ac"
      },
      "execution_count": 8,
      "outputs": [
        {
          "output_type": "stream",
          "name": "stdout",
          "text": [
            "./example\n"
          ]
        }
      ]
    },
    {
      "cell_type": "code",
      "source": [
        "%%writefile main.rs\n",
        "\n",
        "use std::env;\n",
        "use std::io::{self, Write};\n",
        "\n",
        "fn ft_putstr(s: &str) {\n",
        "    io::stdout().write_all(s.as_bytes()).unwrap();\n",
        "}\n",
        "\n",
        "fn main() {\n",
        "    let args: Vec<String> = env::args().collect();\n",
        "    let mut i = 1;\n",
        "    while i < args.len() {\n",
        "        ft_putstr(&args[i]);\n",
        "        println!();\n",
        "        i += 1;\n",
        "    }\n",
        "}"
      ],
      "metadata": {
        "colab": {
          "base_uri": "https://localhost:8080/"
        },
        "id": "dpUYiXS0nIFi",
        "outputId": "8037057d-a1fd-47e7-aa24-0030cd6e9b5d"
      },
      "execution_count": 9,
      "outputs": [
        {
          "output_type": "stream",
          "name": "stdout",
          "text": [
            "Overwriting main.rs\n"
          ]
        }
      ]
    },
    {
      "cell_type": "code",
      "source": [
        "!rustc main.rs\n",
        "!./main argumento1 argumento2 argumento3"
      ],
      "metadata": {
        "colab": {
          "base_uri": "https://localhost:8080/"
        },
        "id": "TCyQJqYrnbI1",
        "outputId": "736e0a9a-bf75-418a-e274-ee520cae6446"
      },
      "execution_count": 13,
      "outputs": [
        {
          "output_type": "stream",
          "name": "stdout",
          "text": [
            "argumento1\n",
            "argumento2\n",
            "argumento3\n"
          ]
        }
      ]
    },
    {
      "cell_type": "code",
      "source": [
        "%%writefile main.rs\n",
        "\n",
        "use std::env;\n",
        "use std::process::exit;\n",
        "use std::io::{self, Write};\n",
        "\n",
        "fn ft_putstr(s: &str) {\n",
        "    print!(\"{}\", s);\n",
        "    io::stdout().flush().unwrap();\n",
        "}\n",
        "\n",
        "fn main() {\n",
        "    let args: Vec<String> = env::args().collect();\n",
        "    let mut i = args.len();\n",
        "\n",
        "    if i == 1 {\n",
        "        exit(0);\n",
        "    }\n",
        "\n",
        "    while i > 1 {\n",
        "        ft_putstr(&args[i - 1]);\n",
        "        ft_putstr(\"\\n\");\n",
        "        i -= 1;\n",
        "    }\n",
        "}"
      ],
      "metadata": {
        "colab": {
          "base_uri": "https://localhost:8080/"
        },
        "id": "DUCDUvwOn5-5",
        "outputId": "0b222571-04fc-431d-d069-9d58c2a7bf51"
      },
      "execution_count": 14,
      "outputs": [
        {
          "output_type": "stream",
          "name": "stdout",
          "text": [
            "Overwriting main.rs\n"
          ]
        }
      ]
    },
    {
      "cell_type": "code",
      "source": [
        "!rustc main.rs\n",
        "!./main argumento1 argumento2 argumento3"
      ],
      "metadata": {
        "colab": {
          "base_uri": "https://localhost:8080/"
        },
        "id": "0q95SGjtn7Yw",
        "outputId": "b9eb98a3-3e1d-43c5-e06b-e0cb8db763c9"
      },
      "execution_count": 15,
      "outputs": [
        {
          "output_type": "stream",
          "name": "stdout",
          "text": [
            "argumento3\n",
            "argumento2\n",
            "argumento1\n"
          ]
        }
      ]
    },
    {
      "cell_type": "code",
      "source": [
        "%%writefile main.rs\n",
        "\n",
        "use std::cmp::Ordering;\n",
        "\n",
        "fn ft_strcmp(s1: &str, s2: &str) -> Ordering {\n",
        "    s1.cmp(s2)\n",
        "}\n",
        "\n",
        "fn ft_print_params(args: Vec<String>) {\n",
        "    for arg in args.iter() {\n",
        "        println!(\"{}\", arg);\n",
        "    }\n",
        "}\n",
        "\n",
        "fn main() {\n",
        "    let mut args: Vec<String> = std::env::args().collect();\n",
        "    args.remove(0); // Remove the first argument (program name)\n",
        "\n",
        "    args.sort_by(|a, b| ft_strcmp(a, b));\n",
        "\n",
        "    ft_print_params(args);\n",
        "}"
      ],
      "metadata": {
        "colab": {
          "base_uri": "https://localhost:8080/"
        },
        "id": "QxJth20KoT1_",
        "outputId": "f89979e9-31ad-4d05-bae9-068565cd0790"
      },
      "execution_count": 18,
      "outputs": [
        {
          "output_type": "stream",
          "name": "stdout",
          "text": [
            "Overwriting main.rs\n"
          ]
        }
      ]
    },
    {
      "cell_type": "code",
      "source": [
        "!rustc main.rs\n",
        "!./main z a h b"
      ],
      "metadata": {
        "colab": {
          "base_uri": "https://localhost:8080/"
        },
        "id": "d_yg57lQoeQY",
        "outputId": "6334cb0e-0200-4f8e-d5ef-cde334500823"
      },
      "execution_count": 19,
      "outputs": [
        {
          "output_type": "stream",
          "name": "stdout",
          "text": [
            "a\n",
            "b\n",
            "h\n",
            "z\n"
          ]
        }
      ]
    }
  ]
}