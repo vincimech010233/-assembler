{
  "nbformat": 4,
  "nbformat_minor": 0,
  "metadata": {
    "colab": {
      "provenance": [],
      "authorship_tag": "ABX9TyPSnQyQ2++vPwffhO7c5UUQ",
      "include_colab_link": true
    },
    "kernelspec": {
      "name": "python3",
      "display_name": "Python 3"
    },
    "language_info": {
      "name": "python"
    }
  },
  "cells": [
    {
      "cell_type": "markdown",
      "metadata": {
        "id": "view-in-github",
        "colab_type": "text"
      },
      "source": [
        "<a href=\"https://colab.research.google.com/github/vincimech010233/rust_asm/blob/master/RustPiscine42_04.ipynb\" target=\"_parent\"><img src=\"https://colab.research.google.com/assets/colab-badge.svg\" alt=\"Open In Colab\"/></a>"
      ]
    },
    {
      "cell_type": "code",
      "execution_count": null,
      "metadata": {
        "id": "jyBiiT_Hcskq"
      },
      "outputs": [],
      "source": [
        "!curl --proto '=https' --tlsv1.2 -sSf https://sh.rustup.rs | sh -s -- -y\n",
        "import os\n",
        "os.environ['PATH'] += \":/root/.cargo/bin\"\n",
        "!rustc --version"
      ]
    },
    {
      "cell_type": "code",
      "source": [
        "%%writefile main.rs\n",
        "\n",
        "fn ft_strlen(s: &str) -> usize {\n",
        "    s.chars().count()\n",
        "}\n",
        "\n",
        "fn main() {\n",
        "    // Ejemplo\n",
        "    let s = \"Hello, world!\";\n",
        "    let length = ft_strlen(s);\n",
        "    println!(\"La longitud de la cadena es: {}\", length);\n",
        "}"
      ],
      "metadata": {
        "colab": {
          "base_uri": "https://localhost:8080/"
        },
        "id": "itSLdr9bcthr",
        "outputId": "143a1922-af3c-4306-be8e-fb37a3e23462"
      },
      "execution_count": 5,
      "outputs": [
        {
          "output_type": "stream",
          "name": "stdout",
          "text": [
            "Overwriting main.rs\n"
          ]
        }
      ]
    },
    {
      "cell_type": "code",
      "source": [
        "!rustc main.rs\n",
        "!./main"
      ],
      "metadata": {
        "colab": {
          "base_uri": "https://localhost:8080/"
        },
        "id": "HopY0Wa_c_2Y",
        "outputId": "734bbe7a-ae0c-498c-f706-ac0704decff0"
      },
      "execution_count": 6,
      "outputs": [
        {
          "output_type": "stream",
          "name": "stdout",
          "text": [
            "La longitud de la cadena es: 13\n"
          ]
        }
      ]
    },
    {
      "cell_type": "code",
      "source": [
        "%%writefile main.rs\n",
        "\n",
        "use std::io::{self, Write};\n",
        "\n",
        "fn ft_putstr(s: &str) {\n",
        "    if let Err(e) = io::stdout().write_all(s.as_bytes()) {\n",
        "        eprintln!(\"Error al escribir en la salida estándar: {}\", e);\n",
        "    }\n",
        "}\n",
        "\n",
        "fn main() {\n",
        "    // Ejemplo\n",
        "    let s = \"Hello, world!\";\n",
        "    ft_putstr(s);\n",
        "}"
      ],
      "metadata": {
        "colab": {
          "base_uri": "https://localhost:8080/"
        },
        "id": "1CJDwhu-dJDm",
        "outputId": "bc928271-a9e8-4a4b-ee9d-b5c2bbb36ad5"
      },
      "execution_count": 7,
      "outputs": [
        {
          "output_type": "stream",
          "name": "stdout",
          "text": [
            "Overwriting main.rs\n"
          ]
        }
      ]
    },
    {
      "cell_type": "code",
      "source": [
        "!rustc main.rs\n",
        "!./main"
      ],
      "metadata": {
        "colab": {
          "base_uri": "https://localhost:8080/"
        },
        "id": "fmqmYE4_dT4B",
        "outputId": "2d713c89-237c-48f2-dba4-e96e795c80e9"
      },
      "execution_count": 8,
      "outputs": [
        {
          "output_type": "stream",
          "name": "stdout",
          "text": [
            "Hello, world!"
          ]
        }
      ]
    },
    {
      "cell_type": "code",
      "source": [
        "%%writefile main.rs\n",
        "\n",
        "use std::io::{self, Write};\n",
        "\n",
        "fn ft_putnbr(mut nb: i32) {\n",
        "    if nb == 0 {\n",
        "        io::stdout().write_all(b\"0\").unwrap();\n",
        "        return;\n",
        "    }\n",
        "\n",
        "    if nb == -2147483648 {\n",
        "        io::stdout().write_all(b\"-2147483648\").unwrap();\n",
        "        return;\n",
        "    }\n",
        "\n",
        "    if nb < 0 {\n",
        "        io::stdout().write_all(b\"-\").unwrap();\n",
        "        nb *= -1;\n",
        "    }\n",
        "\n",
        "    let mut digits: Vec<u8> = Vec::new();\n",
        "\n",
        "    while nb > 0 {\n",
        "        let digit = (nb % 10) as u8 + b'0';\n",
        "        digits.push(digit);\n",
        "        nb /= 10;\n",
        "    }\n",
        "\n",
        "    digits.reverse();\n",
        "    io::stdout().write_all(&digits).unwrap();\n",
        "}\n",
        "\n",
        "fn main() {\n",
        "    // Ejemplo\n",
        "    let nb = 38;\n",
        "    ft_putnbr(nb);\n",
        "    println!();\n",
        "}"
      ],
      "metadata": {
        "colab": {
          "base_uri": "https://localhost:8080/"
        },
        "id": "II5e35aXdccg",
        "outputId": "fb702e74-cc25-41cd-e0c9-6d6c6c6d72ab"
      },
      "execution_count": 21,
      "outputs": [
        {
          "output_type": "stream",
          "name": "stdout",
          "text": [
            "Overwriting main.rs\n"
          ]
        }
      ]
    },
    {
      "cell_type": "code",
      "source": [
        "!rustc main.rs\n",
        "!./main"
      ],
      "metadata": {
        "colab": {
          "base_uri": "https://localhost:8080/"
        },
        "id": "98dyUJ1Gd4PI",
        "outputId": "3ca0e619-134f-46ab-e24d-71f656e952be"
      },
      "execution_count": 22,
      "outputs": [
        {
          "output_type": "stream",
          "name": "stdout",
          "text": [
            "38\n"
          ]
        }
      ]
    },
    {
      "cell_type": "code",
      "source": [
        "%%writefile main.rs\n",
        "\n",
        "fn ft_atoi(str: &str) -> i32 {\n",
        "    let mut chars = str.chars().peekable();\n",
        "    let mut y = 1;\n",
        "    let mut z = 0;\n",
        "\n",
        "    // Ignorar los espacios en blanco iniciales\n",
        "    while let Some(&' ') | Some(&'\\t') | Some(&'\\n') | Some(&'\\r') | Some(&'\\x0C') | Some(&'\\x0B') = chars.peek() {\n",
        "        chars.next();\n",
        "    }\n",
        "\n",
        "    // Manejar el signo\n",
        "    if let Some('+') = chars.peek() {\n",
        "        chars.next();\n",
        "    } else if let Some('-') = chars.peek() {\n",
        "        y = -1;\n",
        "        chars.next();\n",
        "    }\n",
        "\n",
        "    // Convertir caracteres numéricos en dígitos\n",
        "    while let Some(c) = chars.peek().cloned() {\n",
        "        if c.is_ascii_digit() {\n",
        "            z = (c as i32 - '0' as i32) + (z * 10);\n",
        "        } else {\n",
        "            break;\n",
        "        }\n",
        "        chars.next();\n",
        "    }\n",
        "\n",
        "    z * y\n",
        "}\n",
        "\n",
        "fn main() {\n",
        "    // Ejemplo\n",
        "    let str = \"  12a34 -12345\";\n",
        "    let result = ft_atoi(str);\n",
        "    println!(\"Resultado: {}\", result);\n",
        "}"
      ],
      "metadata": {
        "colab": {
          "base_uri": "https://localhost:8080/"
        },
        "id": "0yAvuTyneMXZ",
        "outputId": "4ad9b4fd-0e03-4c0e-ce4e-1feb8db11013"
      },
      "execution_count": 27,
      "outputs": [
        {
          "output_type": "stream",
          "name": "stdout",
          "text": [
            "Overwriting main.rs\n"
          ]
        }
      ]
    },
    {
      "cell_type": "code",
      "source": [
        "!rustc main.rs\n",
        "!./main"
      ],
      "metadata": {
        "colab": {
          "base_uri": "https://localhost:8080/"
        },
        "id": "d7HMzu6pebhg",
        "outputId": "e2236f07-7a68-4dae-b259-2ce40aee1a77"
      },
      "execution_count": 28,
      "outputs": [
        {
          "output_type": "stream",
          "name": "stdout",
          "text": [
            "Resultado: 12\n"
          ]
        }
      ]
    },
    {
      "cell_type": "code",
      "source": [
        "%%writefile main.rs\n",
        "\n",
        "use std::io::{self, Write};\n",
        "\n",
        "fn ft_putchar(c: char) {\n",
        "    print!(\"{}\", c);\n",
        "    io::stdout().flush().unwrap();\n",
        "}\n",
        "\n",
        "fn ft_error(base: &str) -> bool {\n",
        "    let lenb = base.len();\n",
        "    if lenb == 0 || lenb == 1 {\n",
        "        return true;\n",
        "    }\n",
        "    for (i, c1) in base.chars().enumerate() {\n",
        "        if c1 == '+' || c1 == '-' {\n",
        "            return true;\n",
        "        }\n",
        "        for c2 in base.chars().skip(i + 1) {\n",
        "            if c1 == c2 {\n",
        "                return true;\n",
        "            }\n",
        "        }\n",
        "    }\n",
        "    false\n",
        "}\n",
        "\n",
        "fn ft_putnbr(mut nb: i32, base: &str) {\n",
        "    let lenb = base.len();\n",
        "    let mut buffer = Vec::new();\n",
        "\n",
        "    if nb < 0 {\n",
        "        ft_putchar('-');\n",
        "        nb *= -1;\n",
        "    }\n",
        "\n",
        "    while nb > 0 {\n",
        "        let digit = (nb % lenb as i32) as usize;\n",
        "        buffer.push(base.chars().nth(digit).unwrap());\n",
        "        nb /= lenb as i32;\n",
        "    }\n",
        "\n",
        "    buffer.reverse();\n",
        "    for c in buffer {\n",
        "        ft_putchar(c);\n",
        "    }\n",
        "}\n",
        "\n",
        "fn ft_putnbr_base(nbr: i32, base: &str) {\n",
        "    let err = ft_error(base);\n",
        "    if err {\n",
        "        return;\n",
        "    }\n",
        "    ft_putnbr(nbr, base);\n",
        "}\n",
        "\n",
        "fn main() {\n",
        "    let nbr = 10;\n",
        "    let base = \"01\";\n",
        "    ft_putnbr_base(nbr, base);\n",
        "    println!();\n",
        "}"
      ],
      "metadata": {
        "colab": {
          "base_uri": "https://localhost:8080/"
        },
        "id": "3ZhF1S0Wek5g",
        "outputId": "1c5e4e5f-c85f-4945-97d2-7bcdd6d10c17"
      },
      "execution_count": 33,
      "outputs": [
        {
          "output_type": "stream",
          "name": "stdout",
          "text": [
            "Overwriting main.rs\n"
          ]
        }
      ]
    },
    {
      "cell_type": "code",
      "source": [
        "!rustc main.rs\n",
        "!./main"
      ],
      "metadata": {
        "colab": {
          "base_uri": "https://localhost:8080/"
        },
        "id": "Yuk7HNjWezev",
        "outputId": "9c49d7c0-d666-4700-d482-1ac4027804f0"
      },
      "execution_count": 34,
      "outputs": [
        {
          "output_type": "stream",
          "name": "stdout",
          "text": [
            "1010\n"
          ]
        }
      ]
    }
  ]
}